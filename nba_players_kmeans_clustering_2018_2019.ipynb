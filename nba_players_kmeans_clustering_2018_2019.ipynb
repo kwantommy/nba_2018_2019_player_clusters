{
 "cells": [
  {
   "cell_type": "markdown",
   "metadata": {},
   "source": [
    "## In this notebook: \n",
    "## 1. Clustering 2 and 3 point percentage for NBA players that shoot a respectable amount of 3 pointers\n",
    "## 2. Clustering players based on advanced box score metrics, OBPM (offensive box plus/minus) and DBPM (defensive box plus/minus) \n",
    "## 3. PCA based clustering\n",
    "####    "
   ]
  },
  {
   "cell_type": "markdown",
   "metadata": {},
   "source": [
    "### Module versions used in this notebook"
   ]
  },
  {
   "cell_type": "code",
   "execution_count": 1,
   "metadata": {},
   "outputs": [
    {
     "name": "stdout",
     "output_type": "stream",
     "text": [
      "Python: 3.6.8 |Anaconda, Inc.| (default, Dec 29 2018, 19:04:46) \n",
      "[GCC 4.2.1 Compatible Clang 4.0.1 (tags/RELEASE_401/final)]\n",
      "scipy: 1.1.0\n",
      "numpy: 1.15.4\n",
      "matplotlib: 3.0.2\n",
      "pandas: 0.23.4\n",
      "sklearn: 0.20.2\n"
     ]
    }
   ],
   "source": [
    "import sys\n",
    "import scipy\n",
    "import numpy\n",
    "import matplotlib\n",
    "import pandas\n",
    "import sklearn\n",
    "\n",
    "\n",
    "print('Python: {}'.format(sys.version))\n",
    "print('scipy: {}'.format(scipy.__version__))\n",
    "print('numpy: {}'.format(numpy.__version__))\n",
    "print('matplotlib: {}'.format(matplotlib.__version__))\n",
    "print('pandas: {}'.format(pandas.__version__))\n",
    "print('sklearn: {}'.format(sklearn.__version__))"
   ]
  },
  {
   "cell_type": "code",
   "execution_count": 2,
   "metadata": {},
   "outputs": [
    {
     "name": "stderr",
     "output_type": "stream",
     "text": [
      "Using TensorFlow backend.\n"
     ]
    }
   ],
   "source": [
    "import pandas as pd\n",
    "import numpy as np\n",
    "import sklearn\n",
    "import keras\n",
    "import matplotlib.pyplot as plt\n",
    "\n",
    "from matplotlib import style\n",
    "style.use(\"ggplot\")\n",
    "\n",
    "from sklearn.decomposition import PCA\n",
    "from sklearn.preprocessing import StandardScaler\n",
    "from sklearn import model_selection\n",
    "from sklearn.metrics import classification_report, accuracy_score\n",
    "from sklearn.cluster import KMeans\n",
    "\n",
    "import time"
   ]
  },
  {
   "cell_type": "markdown",
   "metadata": {},
   "source": [
    "## 1. Clustering 2 and 3 point percentage for NBA players that shoot a respectable amount of 3 pointers\n",
    "\n",
    "### Use pandas to read the csv and create a dataframe"
   ]
  },
  {
   "cell_type": "code",
   "execution_count": 3,
   "metadata": {
    "scrolled": true
   },
   "outputs": [
    {
     "data": {
      "text/html": [
       "<div>\n",
       "<style scoped>\n",
       "    .dataframe tbody tr th:only-of-type {\n",
       "        vertical-align: middle;\n",
       "    }\n",
       "\n",
       "    .dataframe tbody tr th {\n",
       "        vertical-align: top;\n",
       "    }\n",
       "\n",
       "    .dataframe thead th {\n",
       "        text-align: right;\n",
       "    }\n",
       "</style>\n",
       "<table border=\"1\" class=\"dataframe\">\n",
       "  <thead>\n",
       "    <tr style=\"text-align: right;\">\n",
       "      <th></th>\n",
       "      <th>Rk</th>\n",
       "      <th>Player</th>\n",
       "      <th>Pos</th>\n",
       "      <th>Age</th>\n",
       "      <th>Tm</th>\n",
       "      <th>G</th>\n",
       "      <th>GS</th>\n",
       "      <th>MP</th>\n",
       "      <th>FG</th>\n",
       "      <th>FGA</th>\n",
       "      <th>...</th>\n",
       "      <th>FTP</th>\n",
       "      <th>ORB</th>\n",
       "      <th>DRB</th>\n",
       "      <th>TRB</th>\n",
       "      <th>AST</th>\n",
       "      <th>STL</th>\n",
       "      <th>BLK</th>\n",
       "      <th>TOV</th>\n",
       "      <th>PF</th>\n",
       "      <th>PTS</th>\n",
       "    </tr>\n",
       "  </thead>\n",
       "  <tbody>\n",
       "    <tr>\n",
       "      <th>0</th>\n",
       "      <td>1</td>\n",
       "      <td>Alex Abrines\\abrinal01</td>\n",
       "      <td>SG</td>\n",
       "      <td>25</td>\n",
       "      <td>OKC</td>\n",
       "      <td>31</td>\n",
       "      <td>2</td>\n",
       "      <td>19.0</td>\n",
       "      <td>1.8</td>\n",
       "      <td>5.1</td>\n",
       "      <td>...</td>\n",
       "      <td>0.923</td>\n",
       "      <td>0.2</td>\n",
       "      <td>1.4</td>\n",
       "      <td>1.5</td>\n",
       "      <td>0.6</td>\n",
       "      <td>0.5</td>\n",
       "      <td>0.2</td>\n",
       "      <td>0.5</td>\n",
       "      <td>1.7</td>\n",
       "      <td>5.3</td>\n",
       "    </tr>\n",
       "    <tr>\n",
       "      <th>1</th>\n",
       "      <td>2</td>\n",
       "      <td>Quincy Acy\\acyqu01</td>\n",
       "      <td>PF</td>\n",
       "      <td>28</td>\n",
       "      <td>PHO</td>\n",
       "      <td>10</td>\n",
       "      <td>0</td>\n",
       "      <td>12.3</td>\n",
       "      <td>0.4</td>\n",
       "      <td>1.8</td>\n",
       "      <td>...</td>\n",
       "      <td>0.700</td>\n",
       "      <td>0.3</td>\n",
       "      <td>2.2</td>\n",
       "      <td>2.5</td>\n",
       "      <td>0.8</td>\n",
       "      <td>0.1</td>\n",
       "      <td>0.4</td>\n",
       "      <td>0.4</td>\n",
       "      <td>2.4</td>\n",
       "      <td>1.7</td>\n",
       "    </tr>\n",
       "    <tr>\n",
       "      <th>2</th>\n",
       "      <td>3</td>\n",
       "      <td>Jaylen Adams\\adamsja01</td>\n",
       "      <td>PG</td>\n",
       "      <td>22</td>\n",
       "      <td>ATL</td>\n",
       "      <td>34</td>\n",
       "      <td>1</td>\n",
       "      <td>12.6</td>\n",
       "      <td>1.1</td>\n",
       "      <td>3.2</td>\n",
       "      <td>...</td>\n",
       "      <td>0.778</td>\n",
       "      <td>0.3</td>\n",
       "      <td>1.4</td>\n",
       "      <td>1.8</td>\n",
       "      <td>1.9</td>\n",
       "      <td>0.4</td>\n",
       "      <td>0.1</td>\n",
       "      <td>0.8</td>\n",
       "      <td>1.3</td>\n",
       "      <td>3.2</td>\n",
       "    </tr>\n",
       "    <tr>\n",
       "      <th>3</th>\n",
       "      <td>4</td>\n",
       "      <td>Steven Adams\\adamsst01</td>\n",
       "      <td>C</td>\n",
       "      <td>25</td>\n",
       "      <td>OKC</td>\n",
       "      <td>80</td>\n",
       "      <td>80</td>\n",
       "      <td>33.4</td>\n",
       "      <td>6.0</td>\n",
       "      <td>10.1</td>\n",
       "      <td>...</td>\n",
       "      <td>0.500</td>\n",
       "      <td>4.9</td>\n",
       "      <td>4.6</td>\n",
       "      <td>9.5</td>\n",
       "      <td>1.6</td>\n",
       "      <td>1.5</td>\n",
       "      <td>1.0</td>\n",
       "      <td>1.7</td>\n",
       "      <td>2.6</td>\n",
       "      <td>13.9</td>\n",
       "    </tr>\n",
       "    <tr>\n",
       "      <th>4</th>\n",
       "      <td>5</td>\n",
       "      <td>Bam Adebayo\\adebaba01</td>\n",
       "      <td>C</td>\n",
       "      <td>21</td>\n",
       "      <td>MIA</td>\n",
       "      <td>82</td>\n",
       "      <td>28</td>\n",
       "      <td>23.3</td>\n",
       "      <td>3.4</td>\n",
       "      <td>5.9</td>\n",
       "      <td>...</td>\n",
       "      <td>0.735</td>\n",
       "      <td>2.0</td>\n",
       "      <td>5.3</td>\n",
       "      <td>7.3</td>\n",
       "      <td>2.2</td>\n",
       "      <td>0.9</td>\n",
       "      <td>0.8</td>\n",
       "      <td>1.5</td>\n",
       "      <td>2.5</td>\n",
       "      <td>8.9</td>\n",
       "    </tr>\n",
       "  </tbody>\n",
       "</table>\n",
       "<p>5 rows × 30 columns</p>\n",
       "</div>"
      ],
      "text/plain": [
       "   Rk                  Player Pos  Age   Tm   G  GS    MP   FG   FGA  ...   \\\n",
       "0   1  Alex Abrines\\abrinal01  SG   25  OKC  31   2  19.0  1.8   5.1  ...    \n",
       "1   2      Quincy Acy\\acyqu01  PF   28  PHO  10   0  12.3  0.4   1.8  ...    \n",
       "2   3  Jaylen Adams\\adamsja01  PG   22  ATL  34   1  12.6  1.1   3.2  ...    \n",
       "3   4  Steven Adams\\adamsst01   C   25  OKC  80  80  33.4  6.0  10.1  ...    \n",
       "4   5   Bam Adebayo\\adebaba01   C   21  MIA  82  28  23.3  3.4   5.9  ...    \n",
       "\n",
       "     FTP  ORB  DRB  TRB  AST  STL  BLK  TOV   PF   PTS  \n",
       "0  0.923  0.2  1.4  1.5  0.6  0.5  0.2  0.5  1.7   5.3  \n",
       "1  0.700  0.3  2.2  2.5  0.8  0.1  0.4  0.4  2.4   1.7  \n",
       "2  0.778  0.3  1.4  1.8  1.9  0.4  0.1  0.8  1.3   3.2  \n",
       "3  0.500  4.9  4.6  9.5  1.6  1.5  1.0  1.7  2.6  13.9  \n",
       "4  0.735  2.0  5.3  7.3  2.2  0.9  0.8  1.5  2.5   8.9  \n",
       "\n",
       "[5 rows x 30 columns]"
      ]
     },
     "execution_count": 3,
     "metadata": {},
     "output_type": "execute_result"
    }
   ],
   "source": [
    "df = pd.read_csv(\"/Users/tommykwan/Documents/MachineLearning/Unsupervised/KMeansClustering/NBA_Clustering/season_data_2018_2019.csv\")\n",
    "df.head(5)"
   ]
  },
  {
   "cell_type": "markdown",
   "metadata": {},
   "source": [
    "### Keep only the total numbers for players that played on multiple teams during the season\n"
   ]
  },
  {
   "cell_type": "code",
   "execution_count": 4,
   "metadata": {},
   "outputs": [],
   "source": [
    "df = df.drop_duplicates(keep = 'first')"
   ]
  },
  {
   "cell_type": "markdown",
   "metadata": {},
   "source": [
    "### Putting some requirements on the players that are being considered (otherwise, extreme outliers appear in the data)"
   ]
  },
  {
   "cell_type": "code",
   "execution_count": 5,
   "metadata": {},
   "outputs": [
    {
     "data": {
      "text/html": [
       "<div>\n",
       "<style scoped>\n",
       "    .dataframe tbody tr th:only-of-type {\n",
       "        vertical-align: middle;\n",
       "    }\n",
       "\n",
       "    .dataframe tbody tr th {\n",
       "        vertical-align: top;\n",
       "    }\n",
       "\n",
       "    .dataframe thead th {\n",
       "        text-align: right;\n",
       "    }\n",
       "</style>\n",
       "<table border=\"1\" class=\"dataframe\">\n",
       "  <thead>\n",
       "    <tr style=\"text-align: right;\">\n",
       "      <th></th>\n",
       "      <th>MP</th>\n",
       "      <th>FG</th>\n",
       "      <th>FGA</th>\n",
       "      <th>FGP</th>\n",
       "      <th>Three_P</th>\n",
       "      <th>Three_PA</th>\n",
       "      <th>Three_PP</th>\n",
       "      <th>Two_P</th>\n",
       "      <th>Two_PA</th>\n",
       "      <th>Two_PP</th>\n",
       "      <th>...</th>\n",
       "      <th>FTP</th>\n",
       "      <th>ORB</th>\n",
       "      <th>DRB</th>\n",
       "      <th>TRB</th>\n",
       "      <th>AST</th>\n",
       "      <th>STL</th>\n",
       "      <th>BLK</th>\n",
       "      <th>TOV</th>\n",
       "      <th>PF</th>\n",
       "      <th>PTS</th>\n",
       "    </tr>\n",
       "  </thead>\n",
       "  <tbody>\n",
       "    <tr>\n",
       "      <th>12</th>\n",
       "      <td>28.3</td>\n",
       "      <td>3.2</td>\n",
       "      <td>7.3</td>\n",
       "      <td>0.433</td>\n",
       "      <td>1.2</td>\n",
       "      <td>3.5</td>\n",
       "      <td>0.343</td>\n",
       "      <td>2.0</td>\n",
       "      <td>3.9</td>\n",
       "      <td>0.514</td>\n",
       "      <td>...</td>\n",
       "      <td>0.867</td>\n",
       "      <td>1.4</td>\n",
       "      <td>6.1</td>\n",
       "      <td>7.5</td>\n",
       "      <td>1.3</td>\n",
       "      <td>0.8</td>\n",
       "      <td>0.4</td>\n",
       "      <td>0.9</td>\n",
       "      <td>1.8</td>\n",
       "      <td>9.4</td>\n",
       "    </tr>\n",
       "    <tr>\n",
       "      <th>19</th>\n",
       "      <td>32.8</td>\n",
       "      <td>10.0</td>\n",
       "      <td>17.3</td>\n",
       "      <td>0.578</td>\n",
       "      <td>0.7</td>\n",
       "      <td>2.8</td>\n",
       "      <td>0.256</td>\n",
       "      <td>9.3</td>\n",
       "      <td>14.5</td>\n",
       "      <td>0.641</td>\n",
       "      <td>...</td>\n",
       "      <td>0.729</td>\n",
       "      <td>2.2</td>\n",
       "      <td>10.3</td>\n",
       "      <td>12.5</td>\n",
       "      <td>5.9</td>\n",
       "      <td>1.3</td>\n",
       "      <td>1.5</td>\n",
       "      <td>3.7</td>\n",
       "      <td>3.2</td>\n",
       "      <td>27.7</td>\n",
       "    </tr>\n",
       "    <tr>\n",
       "      <th>22</th>\n",
       "      <td>20.2</td>\n",
       "      <td>2.7</td>\n",
       "      <td>6.0</td>\n",
       "      <td>0.453</td>\n",
       "      <td>1.0</td>\n",
       "      <td>3.0</td>\n",
       "      <td>0.332</td>\n",
       "      <td>1.7</td>\n",
       "      <td>3.0</td>\n",
       "      <td>0.574</td>\n",
       "      <td>...</td>\n",
       "      <td>0.581</td>\n",
       "      <td>0.9</td>\n",
       "      <td>2.1</td>\n",
       "      <td>2.9</td>\n",
       "      <td>0.7</td>\n",
       "      <td>0.7</td>\n",
       "      <td>0.3</td>\n",
       "      <td>0.8</td>\n",
       "      <td>2.1</td>\n",
       "      <td>7.0</td>\n",
       "    </tr>\n",
       "    <tr>\n",
       "      <th>23</th>\n",
       "      <td>24.2</td>\n",
       "      <td>2.3</td>\n",
       "      <td>5.2</td>\n",
       "      <td>0.447</td>\n",
       "      <td>1.0</td>\n",
       "      <td>2.7</td>\n",
       "      <td>0.373</td>\n",
       "      <td>1.3</td>\n",
       "      <td>2.5</td>\n",
       "      <td>0.527</td>\n",
       "      <td>...</td>\n",
       "      <td>0.873</td>\n",
       "      <td>0.3</td>\n",
       "      <td>2.4</td>\n",
       "      <td>2.7</td>\n",
       "      <td>3.3</td>\n",
       "      <td>0.8</td>\n",
       "      <td>0.0</td>\n",
       "      <td>0.8</td>\n",
       "      <td>2.1</td>\n",
       "      <td>6.7</td>\n",
       "    </tr>\n",
       "    <tr>\n",
       "      <th>24</th>\n",
       "      <td>34.0</td>\n",
       "      <td>4.3</td>\n",
       "      <td>10.7</td>\n",
       "      <td>0.399</td>\n",
       "      <td>2.1</td>\n",
       "      <td>6.3</td>\n",
       "      <td>0.334</td>\n",
       "      <td>2.2</td>\n",
       "      <td>4.4</td>\n",
       "      <td>0.493</td>\n",
       "      <td>...</td>\n",
       "      <td>0.793</td>\n",
       "      <td>0.7</td>\n",
       "      <td>4.7</td>\n",
       "      <td>5.4</td>\n",
       "      <td>3.7</td>\n",
       "      <td>1.3</td>\n",
       "      <td>0.3</td>\n",
       "      <td>1.5</td>\n",
       "      <td>1.9</td>\n",
       "      <td>12.5</td>\n",
       "    </tr>\n",
       "  </tbody>\n",
       "</table>\n",
       "<p>5 rows × 23 columns</p>\n",
       "</div>"
      ],
      "text/plain": [
       "      MP    FG   FGA    FGP  Three_P  Three_PA  Three_PP  Two_P  Two_PA  \\\n",
       "12  28.3   3.2   7.3  0.433      1.2       3.5     0.343    2.0     3.9   \n",
       "19  32.8  10.0  17.3  0.578      0.7       2.8     0.256    9.3    14.5   \n",
       "22  20.2   2.7   6.0  0.453      1.0       3.0     0.332    1.7     3.0   \n",
       "23  24.2   2.3   5.2  0.447      1.0       2.7     0.373    1.3     2.5   \n",
       "24  34.0   4.3  10.7  0.399      2.1       6.3     0.334    2.2     4.4   \n",
       "\n",
       "    Two_PP  ...     FTP  ORB   DRB   TRB  AST  STL  BLK  TOV   PF   PTS  \n",
       "12   0.514  ...   0.867  1.4   6.1   7.5  1.3  0.8  0.4  0.9  1.8   9.4  \n",
       "19   0.641  ...   0.729  2.2  10.3  12.5  5.9  1.3  1.5  3.7  3.2  27.7  \n",
       "22   0.574  ...   0.581  0.9   2.1   2.9  0.7  0.7  0.3  0.8  2.1   7.0  \n",
       "23   0.527  ...   0.873  0.3   2.4   2.7  3.3  0.8  0.0  0.8  2.1   6.7  \n",
       "24   0.493  ...   0.793  0.7   4.7   5.4  3.7  1.3  0.3  1.5  1.9  12.5  \n",
       "\n",
       "[5 rows x 23 columns]"
      ]
     },
     "execution_count": 5,
     "metadata": {},
     "output_type": "execute_result"
    }
   ],
   "source": [
    "# >50 games played out of 82\n",
    "df = df[df['G'] > 50]\n",
    "\n",
    "# >1.5 3-point attempts/game\n",
    "df = df[df['Three_PA'] > 1.5]\n",
    "\n",
    "# >3 field goal attempts/game\n",
    "df = df[df['FGA'] > 3]\n",
    "\n",
    "# >15 minutes played/game\n",
    "df = df[df['MP'] > 15]\n",
    "\n",
    "#drop N/A data\n",
    "df = df.dropna()\n",
    "\n",
    "df = df.drop(columns = ['Player','Pos','Tm','G','GS','Age','Rk'])\n",
    "\n",
    "df.head(5)\n"
   ]
  },
  {
   "cell_type": "markdown",
   "metadata": {},
   "source": [
    "### Keep only 2 and 3 point percentage in a non-PCA k-means clustering"
   ]
  },
  {
   "cell_type": "code",
   "execution_count": 6,
   "metadata": {},
   "outputs": [
    {
     "data": {
      "text/html": [
       "<div>\n",
       "<style scoped>\n",
       "    .dataframe tbody tr th:only-of-type {\n",
       "        vertical-align: middle;\n",
       "    }\n",
       "\n",
       "    .dataframe tbody tr th {\n",
       "        vertical-align: top;\n",
       "    }\n",
       "\n",
       "    .dataframe thead th {\n",
       "        text-align: right;\n",
       "    }\n",
       "</style>\n",
       "<table border=\"1\" class=\"dataframe\">\n",
       "  <thead>\n",
       "    <tr style=\"text-align: right;\">\n",
       "      <th></th>\n",
       "      <th>Two_PP</th>\n",
       "      <th>Three_PP</th>\n",
       "    </tr>\n",
       "  </thead>\n",
       "  <tbody>\n",
       "    <tr>\n",
       "      <th>12</th>\n",
       "      <td>0.514</td>\n",
       "      <td>0.343</td>\n",
       "    </tr>\n",
       "    <tr>\n",
       "      <th>19</th>\n",
       "      <td>0.641</td>\n",
       "      <td>0.256</td>\n",
       "    </tr>\n",
       "    <tr>\n",
       "      <th>22</th>\n",
       "      <td>0.574</td>\n",
       "      <td>0.332</td>\n",
       "    </tr>\n",
       "    <tr>\n",
       "      <th>23</th>\n",
       "      <td>0.527</td>\n",
       "      <td>0.373</td>\n",
       "    </tr>\n",
       "    <tr>\n",
       "      <th>24</th>\n",
       "      <td>0.493</td>\n",
       "      <td>0.334</td>\n",
       "    </tr>\n",
       "  </tbody>\n",
       "</table>\n",
       "</div>"
      ],
      "text/plain": [
       "    Two_PP  Three_PP\n",
       "12   0.514     0.343\n",
       "19   0.641     0.256\n",
       "22   0.574     0.332\n",
       "23   0.527     0.373\n",
       "24   0.493     0.334"
      ]
     },
     "execution_count": 6,
     "metadata": {},
     "output_type": "execute_result"
    }
   ],
   "source": [
    "df = df[[\"Two_PP\",\"Three_PP\"]]\n",
    "df.head(5)"
   ]
  },
  {
   "cell_type": "code",
   "execution_count": 7,
   "metadata": {},
   "outputs": [],
   "source": [
    "X = np.array(df)"
   ]
  },
  {
   "cell_type": "markdown",
   "metadata": {},
   "source": [
    "### 4 clusters chosen as hypothesis: \n",
    "### 1. High 2P%, High 3P% (top right - superstars that can shoot and great role players)\n",
    "### 2. Low 2P%, Low 3P% (bottom left - subpar players or players in bad system)\n",
    "### 3. High 2P%, Low 3P% (bottom right - big men and non 3 point shooting slashers)\n",
    "### 4. Low 2P%, High 3P% (bottom left - 3 point shooting role players, designated shooters)"
   ]
  },
  {
   "cell_type": "code",
   "execution_count": 8,
   "metadata": {},
   "outputs": [],
   "source": [
    "kmeans = KMeans(n_clusters = 4)\n",
    "\n",
    "start = time.time()\n",
    "kmeans.fit(X)\n",
    "end = time.time()\n",
    "\n",
    "centroids = kmeans.cluster_centers_\n",
    "labels = kmeans.labels_"
   ]
  },
  {
   "cell_type": "code",
   "execution_count": 9,
   "metadata": {},
   "outputs": [
    {
     "name": "stdout",
     "output_type": "stream",
     "text": [
      "Centroids created with 4-means clustering:\n",
      "[[0.60947368 0.33257895]\n",
      " [0.46160227 0.34702273]\n",
      " [0.53663492 0.33687302]\n",
      " [0.51094444 0.40201852]]\n"
     ]
    }
   ],
   "source": [
    "print('Centroids created with 4-means clustering:')\n",
    "print(centroids)"
   ]
  },
  {
   "cell_type": "code",
   "execution_count": 10,
   "metadata": {},
   "outputs": [
    {
     "name": "stdout",
     "output_type": "stream",
     "text": [
      "Cluster labels corresponding to each player in the dataset:\n",
      "[2 0 0 3 1 3 1 3 1 2 3 1 2 3 1 3 0 1 3 2 1 2 2 3 2 2 2 1 1 1 1 1 2 1 3 1 1\n",
      " 2 0 2 3 1 0 2 1 2 3 3 2 2 2 2 1 2 0 2 2 0 1 2 2 3 2 1 1 3 1 1 1 3 3 3 1 1\n",
      " 3 1 3 2 2 3 0 2 1 2 0 1 1 3 3 3 2 2 2 1 3 2 2 1 1 0 1 0 0 1 3 2 3 2 2 2 1\n",
      " 2 2 1 0 2 1 1 1 2 1 1 3 0 1 3 1 2 2 1 3 0 2 2 3 2 2 0 2 2 1 1 2 1 1 3 3 1\n",
      " 3 1 1 3 2 1 1 3 3 1 3 1 1 2 1 1 2 1 1 0 1 2 2 1 3 0 3 2 3 1 2 3 3 1 1 1 3\n",
      " 3 3 1 1 1 1 3 3 1 0 1 2 1 1 3 1 1 2 3 1 3 3 1 3 1 2 2 1 1 3 1 2 1 1 3 1 1\n",
      " 2 1]\n"
     ]
    }
   ],
   "source": [
    "print('Cluster labels corresponding to each player in the dataset:')\n",
    "print(labels)"
   ]
  },
  {
   "cell_type": "code",
   "execution_count": 11,
   "metadata": {},
   "outputs": [
    {
     "name": "stdout",
     "output_type": "stream",
     "text": [
      "Total fit time: 0.04087972640991211 seconds\n"
     ]
    }
   ],
   "source": [
    "print('Total fit time: ' + str(end-start) + ' seconds')"
   ]
  },
  {
   "cell_type": "markdown",
   "metadata": {},
   "source": [
    "### Import the original 2018-2019 NBA season data from basketball reference for plotting purposes"
   ]
  },
  {
   "cell_type": "code",
   "execution_count": 12,
   "metadata": {},
   "outputs": [],
   "source": [
    "df2 = pd.read_csv(\"/Users/tommykwan/Documents/MachineLearning/Unsupervised/KMeansClustering/NBA_Clustering/season_data_2018_2019.csv\")\n",
    "df2 = df2.drop_duplicates(keep = 'first')"
   ]
  },
  {
   "cell_type": "markdown",
   "metadata": {},
   "source": [
    "### Plot the clusters and centroids while labelling outstanding players"
   ]
  },
  {
   "cell_type": "code",
   "execution_count": 13,
   "metadata": {
    "scrolled": true
   },
   "outputs": [
    {
     "data": {
      "text/plain": [
       "Text(0, 0.5, '3P%')"
      ]
     },
     "execution_count": 13,
     "metadata": {},
     "output_type": "execute_result"
    },
    {
     "data": {
      "image/png": "[encoded data removed]",
      "text/plain": [
       "<Figure size 432x288 with 1 Axes>"
      ]
     },
     "metadata": {
      "needs_background": "light"
     },
     "output_type": "display_data"
    }
   ],
   "source": [
    "colors = [\"g.\",\"r.\",\"c.\",\"b.\"]\n",
    "ax = plt.subplot()\n",
    "\n",
    "for i in range(len(X)):\n",
    "    ax.plot(X[i][0], X[i][1],colors[labels[i]], markersize=10)\n",
    "    if X[i][0] > np.percentile(X[:,0],90) and X[i][1] > np.percentile(X[:,1],90):\n",
    "        txt = df2.loc[(df2['Two_PP'] == X[i][0]) & (df2['Three_PP'] == X[i][1]),'Player']\n",
    "        txt = txt.to_string().split('\\\\')[0]\n",
    "        ax.annotate(txt,[X[i][0],X[i][1]],rotation = 0)\n",
    "        \n",
    "    if X[i][0] < np.percentile(X[:,0],10) and X[i][1] < np.percentile(X[:,1],10):\n",
    "        txt = df2.loc[(df2['Two_PP'] == X[i][0]) & (df2['Three_PP'] == X[i][1]),'Player']\n",
    "        txt = txt.to_string().split('\\\\')[0]\n",
    "        ax.annotate(txt,[X[i][0],X[i][1]],rotation = 0)\n",
    "        \n",
    "    if X[i][0] > np.percentile(X[:,0],90) and X[i][1] < np.percentile(X[:,1],10):\n",
    "        txt = df2.loc[(df2['Two_PP'] == X[i][0]) & (df2['Three_PP'] == X[i][1]),'Player']\n",
    "        txt = txt.to_string().split('\\\\')[0]\n",
    "        ax.annotate(txt,[X[i][0],X[i][1]],rotation = 0)\n",
    "        \n",
    "    if X[i][0] < np.percentile(X[:,0],10) and X[i][1] > np.percentile(X[:,1],90):\n",
    "        txt = df2.loc[(df2['Two_PP'] == X[i][0]) & (df2['Three_PP'] == X[i][1]),'Player']\n",
    "        txt = txt.to_string().split('\\\\')[0]\n",
    "        ax.annotate(txt,[X[i][0],X[i][1]],rotation = 0)\n",
    "        \n",
    "        \n",
    "    # Stephen Curry   \n",
    "    if (df2.loc[(df2['Two_PP'] == X[i][0]) & (df2['Three_PP'] == X[i][1]),'Player'].to_string().split('\\\\')[0]) == \"159    Stephen Curry\":\n",
    "        txt = df2.loc[(df2['Two_PP'] == X[i][0]) & (df2['Three_PP'] == X[i][1]),'Player']\n",
    "        txt = txt.to_string().split('\\\\')[0]\n",
    "        ax.annotate(txt,[X[i][0],X[i][1]],rotation = 0)\n",
    "    \n",
    "    # Joe Harris\n",
    "    if (df2.loc[(df2['Two_PP'] == X[i][0]) & (df2['Three_PP'] == X[i][1]),'Player'].to_string().split('\\\\')[0]) == \"272    Joe Harris\":\n",
    "        txt = df2.loc[(df2['Two_PP'] == X[i][0]) & (df2['Three_PP'] == X[i][1]),'Player']\n",
    "        txt = txt.to_string().split('\\\\')[0]\n",
    "        ax.annotate(txt,[X[i][0],X[i][1]],rotation = 0)\n",
    "        \n",
    "    #Russell Westbrook\n",
    "    if (df2.loc[(df2['Two_PP'] == X[i][0]) & (df2['Three_PP'] == X[i][1]),'Player'].to_string().split('\\\\')[0]) == \"675    Russell Westbrook\":\n",
    "        txt = df2.loc[(df2['Two_PP'] == X[i][0]) & (df2['Three_PP'] == X[i][1]),'Player']\n",
    "        txt = txt.to_string().split('\\\\')[0]\n",
    "        ax.annotate(txt,[X[i][0],X[i][1]],rotation = 0)\n",
    "\n",
    "\n",
    "ax.set_title('2P% vs 3P%')\n",
    "ax.set_xlabel('2P%')\n",
    "ax.set_ylabel('3P%')"
   ]
  },
  {
   "cell_type": "markdown",
   "metadata": {},
   "source": [
    "### Centroids-only plot"
   ]
  },
  {
   "cell_type": "code",
   "execution_count": 14,
   "metadata": {},
   "outputs": [
    {
     "data": {
      "image/png": "[encoded data removed]",
      "text/plain": [
       "<Figure size 432x288 with 1 Axes>"
      ]
     },
     "metadata": {
      "needs_background": "light"
     },
     "output_type": "display_data"
    }
   ],
   "source": [
    "plt.scatter(centroids[:,0],\n",
    "            centroids[:,1],\n",
    "            marker='x',\n",
    "            s=150,\n",
    "            linewidth=5)\n",
    "\n",
    "plt.title('KMeans Centroids')\n",
    "plt.xlabel('2P%')\n",
    "plt.ylabel('3P%')\n",
    "plt.show()"
   ]
  },
  {
   "cell_type": "markdown",
   "metadata": {},
   "source": [
    "### Results show decent results as hypothesized"
   ]
  },
  {
   "cell_type": "markdown",
   "metadata": {},
   "source": [
    "## 2. Clustering players based on advanced box score metrics, OBPM (offensive box plus/minus) and DBPM (defensive box plus/minus) "
   ]
  },
  {
   "cell_type": "code",
   "execution_count": 15,
   "metadata": {},
   "outputs": [],
   "source": [
    "df = pd.read_csv(\"/Users/tommykwan/Documents/MachineLearning/Unsupervised/KMeansClustering/NBA_Clustering/nba_advanced_stats_2018_2019.csv\")"
   ]
  },
  {
   "cell_type": "code",
   "execution_count": 16,
   "metadata": {},
   "outputs": [
    {
     "data": {
      "text/html": [
       "<div>\n",
       "<style scoped>\n",
       "    .dataframe tbody tr th:only-of-type {\n",
       "        vertical-align: middle;\n",
       "    }\n",
       "\n",
       "    .dataframe tbody tr th {\n",
       "        vertical-align: top;\n",
       "    }\n",
       "\n",
       "    .dataframe thead th {\n",
       "        text-align: right;\n",
       "    }\n",
       "</style>\n",
       "<table border=\"1\" class=\"dataframe\">\n",
       "  <thead>\n",
       "    <tr style=\"text-align: right;\">\n",
       "      <th></th>\n",
       "      <th>Rk</th>\n",
       "      <th>Player</th>\n",
       "      <th>Pos</th>\n",
       "      <th>Age</th>\n",
       "      <th>Tm</th>\n",
       "      <th>G</th>\n",
       "      <th>MP</th>\n",
       "      <th>PER</th>\n",
       "      <th>TS%</th>\n",
       "      <th>3PAr</th>\n",
       "      <th>...</th>\n",
       "      <th>TOV%</th>\n",
       "      <th>USG%</th>\n",
       "      <th>OWS</th>\n",
       "      <th>DWS</th>\n",
       "      <th>WS</th>\n",
       "      <th>WS/48</th>\n",
       "      <th>OBPM</th>\n",
       "      <th>DBPM</th>\n",
       "      <th>BPM</th>\n",
       "      <th>VORP</th>\n",
       "    </tr>\n",
       "  </thead>\n",
       "  <tbody>\n",
       "    <tr>\n",
       "      <th>0</th>\n",
       "      <td>1</td>\n",
       "      <td>Alex Abrines\\abrinal01</td>\n",
       "      <td>SG</td>\n",
       "      <td>25</td>\n",
       "      <td>OKC</td>\n",
       "      <td>31</td>\n",
       "      <td>588</td>\n",
       "      <td>6.3</td>\n",
       "      <td>0.507</td>\n",
       "      <td>0.809</td>\n",
       "      <td>...</td>\n",
       "      <td>7.9</td>\n",
       "      <td>12.2</td>\n",
       "      <td>0.1</td>\n",
       "      <td>0.6</td>\n",
       "      <td>0.6</td>\n",
       "      <td>0.053</td>\n",
       "      <td>-2.4</td>\n",
       "      <td>-0.9</td>\n",
       "      <td>-3.4</td>\n",
       "      <td>-0.2</td>\n",
       "    </tr>\n",
       "    <tr>\n",
       "      <th>1</th>\n",
       "      <td>2</td>\n",
       "      <td>Quincy Acy\\acyqu01</td>\n",
       "      <td>PF</td>\n",
       "      <td>28</td>\n",
       "      <td>PHO</td>\n",
       "      <td>10</td>\n",
       "      <td>123</td>\n",
       "      <td>2.9</td>\n",
       "      <td>0.379</td>\n",
       "      <td>0.833</td>\n",
       "      <td>...</td>\n",
       "      <td>15.2</td>\n",
       "      <td>9.2</td>\n",
       "      <td>-0.1</td>\n",
       "      <td>0.0</td>\n",
       "      <td>-0.1</td>\n",
       "      <td>-0.022</td>\n",
       "      <td>-5.7</td>\n",
       "      <td>-0.3</td>\n",
       "      <td>-5.9</td>\n",
       "      <td>-0.1</td>\n",
       "    </tr>\n",
       "    <tr>\n",
       "      <th>2</th>\n",
       "      <td>3</td>\n",
       "      <td>Jaylen Adams\\adamsja01</td>\n",
       "      <td>PG</td>\n",
       "      <td>22</td>\n",
       "      <td>ATL</td>\n",
       "      <td>34</td>\n",
       "      <td>428</td>\n",
       "      <td>7.6</td>\n",
       "      <td>0.474</td>\n",
       "      <td>0.673</td>\n",
       "      <td>...</td>\n",
       "      <td>19.7</td>\n",
       "      <td>13.5</td>\n",
       "      <td>-0.1</td>\n",
       "      <td>0.2</td>\n",
       "      <td>0.1</td>\n",
       "      <td>0.011</td>\n",
       "      <td>-3.1</td>\n",
       "      <td>-1.3</td>\n",
       "      <td>-4.4</td>\n",
       "      <td>-0.3</td>\n",
       "    </tr>\n",
       "    <tr>\n",
       "      <th>3</th>\n",
       "      <td>4</td>\n",
       "      <td>Steven Adams\\adamsst01</td>\n",
       "      <td>C</td>\n",
       "      <td>25</td>\n",
       "      <td>OKC</td>\n",
       "      <td>80</td>\n",
       "      <td>2669</td>\n",
       "      <td>18.5</td>\n",
       "      <td>0.591</td>\n",
       "      <td>0.002</td>\n",
       "      <td>...</td>\n",
       "      <td>12.6</td>\n",
       "      <td>16.4</td>\n",
       "      <td>5.1</td>\n",
       "      <td>4.0</td>\n",
       "      <td>9.1</td>\n",
       "      <td>0.163</td>\n",
       "      <td>0.6</td>\n",
       "      <td>2.1</td>\n",
       "      <td>2.7</td>\n",
       "      <td>3.2</td>\n",
       "    </tr>\n",
       "    <tr>\n",
       "      <th>4</th>\n",
       "      <td>5</td>\n",
       "      <td>Bam Adebayo\\adebaba01</td>\n",
       "      <td>C</td>\n",
       "      <td>21</td>\n",
       "      <td>MIA</td>\n",
       "      <td>82</td>\n",
       "      <td>1913</td>\n",
       "      <td>17.9</td>\n",
       "      <td>0.623</td>\n",
       "      <td>0.031</td>\n",
       "      <td>...</td>\n",
       "      <td>17.1</td>\n",
       "      <td>15.8</td>\n",
       "      <td>3.4</td>\n",
       "      <td>3.4</td>\n",
       "      <td>6.8</td>\n",
       "      <td>0.171</td>\n",
       "      <td>-0.6</td>\n",
       "      <td>3.6</td>\n",
       "      <td>3.0</td>\n",
       "      <td>2.4</td>\n",
       "    </tr>\n",
       "  </tbody>\n",
       "</table>\n",
       "<p>5 rows × 27 columns</p>\n",
       "</div>"
      ],
      "text/plain": [
       "   Rk                  Player Pos  Age   Tm   G    MP   PER    TS%   3PAr  \\\n",
       "0   1  Alex Abrines\\abrinal01  SG   25  OKC  31   588   6.3  0.507  0.809   \n",
       "1   2      Quincy Acy\\acyqu01  PF   28  PHO  10   123   2.9  0.379  0.833   \n",
       "2   3  Jaylen Adams\\adamsja01  PG   22  ATL  34   428   7.6  0.474  0.673   \n",
       "3   4  Steven Adams\\adamsst01   C   25  OKC  80  2669  18.5  0.591  0.002   \n",
       "4   5   Bam Adebayo\\adebaba01   C   21  MIA  82  1913  17.9  0.623  0.031   \n",
       "\n",
       "   ...   TOV%  USG%  OWS  DWS   WS  WS/48  OBPM  DBPM  BPM  VORP  \n",
       "0  ...    7.9  12.2  0.1  0.6  0.6  0.053  -2.4  -0.9 -3.4  -0.2  \n",
       "1  ...   15.2   9.2 -0.1  0.0 -0.1 -0.022  -5.7  -0.3 -5.9  -0.1  \n",
       "2  ...   19.7  13.5 -0.1  0.2  0.1  0.011  -3.1  -1.3 -4.4  -0.3  \n",
       "3  ...   12.6  16.4  5.1  4.0  9.1  0.163   0.6   2.1  2.7   3.2  \n",
       "4  ...   17.1  15.8  3.4  3.4  6.8  0.171  -0.6   3.6  3.0   2.4  \n",
       "\n",
       "[5 rows x 27 columns]"
      ]
     },
     "execution_count": 16,
     "metadata": {},
     "output_type": "execute_result"
    }
   ],
   "source": [
    "df.head()"
   ]
  },
  {
   "cell_type": "code",
   "execution_count": 17,
   "metadata": {},
   "outputs": [],
   "source": [
    "df = df.drop_duplicates(keep = 'first')"
   ]
  },
  {
   "cell_type": "markdown",
   "metadata": {},
   "source": [
    "### Again, putting some requirements on the players that are being considered and dropping all features except OBPM and DBPM"
   ]
  },
  {
   "cell_type": "code",
   "execution_count": 18,
   "metadata": {},
   "outputs": [],
   "source": [
    "df = df[df['G'] > 50]\n",
    "df = df[df['MP'] > 750]\n",
    "df = df.dropna()\n",
    "df = df[['OBPM','DBPM']]\n",
    "X = np.array(df)"
   ]
  },
  {
   "cell_type": "markdown",
   "metadata": {},
   "source": [
    "### 4 clusters chosen as hypothesis: \n",
    "### 1. High OBPM, High DBPM (top right - great offensive and defensive players)\n",
    "### 2. Low OBPM, Low DBPM (bottom left - subpar offensive and defensive players)\n",
    "### 3. High OBPM, Low DBPM (bottom right - great offensive but subpar defensive players)\n",
    "### 4. Low OBPM, High DBPM (bottom left - subpar offensive but great defensive players)"
   ]
  },
  {
   "cell_type": "code",
   "execution_count": 19,
   "metadata": {},
   "outputs": [],
   "source": [
    "kmeans = KMeans(n_clusters = 4)\n",
    "\n",
    "start = time.time()\n",
    "kmeans.fit(X)\n",
    "end = time.time()\n",
    "\n",
    "centroids = kmeans.cluster_centers_\n",
    "labels = kmeans.labels_"
   ]
  },
  {
   "cell_type": "code",
   "execution_count": 20,
   "metadata": {},
   "outputs": [
    {
     "name": "stdout",
     "output_type": "stream",
     "text": [
      "Total fit time: 0.04559493064880371 seconds\n"
     ]
    }
   ],
   "source": [
    "print('Total fit time: ' + str(end-start) + ' seconds')"
   ]
  },
  {
   "cell_type": "code",
   "execution_count": 21,
   "metadata": {},
   "outputs": [
    {
     "name": "stdout",
     "output_type": "stream",
     "text": [
      "Centroids:\n",
      "[[ 4.43928571  0.78214286]\n",
      " [-0.07236842  1.98815789]\n",
      " [-1.925      -0.42065217]\n",
      " [ 0.63043478 -1.49565217]]\n"
     ]
    }
   ],
   "source": [
    "print('Centroids:')\n",
    "print(centroids)"
   ]
  },
  {
   "cell_type": "code",
   "execution_count": 22,
   "metadata": {},
   "outputs": [
    {
     "name": "stdout",
     "output_type": "stream",
     "text": [
      "Labels:\n",
      "[1 1 1 1 1 0 2 3 3 3 1 2 3 1 1 2 0 3 3 1 2 3 1 2 1 2 0 3 3 3 2 2 2 3 2 2 2\n",
      " 3 3 3 3 2 0 0 3 1 2 3 1 2 2 2 3 3 1 3 0 1 3 1 2 1 1 3 0 3 0 1 1 1 2 1 3 0\n",
      " 2 1 2 0 3 1 2 2 1 2 3 1 3 3 3 2 0 3 1 1 1 0 3 2 2 1 1 3 1 2 1 1 3 2 3 0 3\n",
      " 0 1 0 2 2 3 3 3 2 2 1 2 3 2 3 2 0 2 2 1 3 1 2 1 1 2 1 2 0 1 2 2 1 2 3 2 3\n",
      " 0 3 2 2 2 0 1 3 1 2 3 3 2 1 2 3 3 2 3 3 3 3 3 0 3 0 2 3 2 1 1 2 0 2 2 2 2\n",
      " 3 3 3 2 3 1 2 2 3 2 3 3 1 3 3 3 3 2 3 3 3 3 1 3 1 2 1 2 1 2 2 2 1 3 2 1 2\n",
      " 3 2 0 1 1 3 0 2 3 3 3 2 1 3 3 2 1 0 1 3 3 3 2 2 2 3 3 3 2 1 1 2 1 2 2 2 3\n",
      " 2 2 2 1 3 2 0 2 1 2 1 3 1 0 2 0 3 1 1 1 2 3 1 1 1 1 3 2 1]\n"
     ]
    }
   ],
   "source": [
    "print('Labels:')\n",
    "print(labels)"
   ]
  },
  {
   "cell_type": "code",
   "execution_count": 23,
   "metadata": {},
   "outputs": [],
   "source": [
    "df2 = pd.read_csv(\"/Users/tommykwan/Documents/MachineLearning/Unsupervised/KMeansClustering/NBA_Clustering/nba_advanced_stats_2018_2019.csv\")\n",
    "df2 = df2.drop_duplicates(keep = 'first')"
   ]
  },
  {
   "cell_type": "code",
   "execution_count": 24,
   "metadata": {},
   "outputs": [
    {
     "data": {
      "text/plain": [
       "Text(0, 0.5, 'DBPM')"
      ]
     },
     "execution_count": 24,
     "metadata": {},
     "output_type": "execute_result"
    },
    {
     "data": {
      "image/png": "[encoded data removed]",
      "text/plain": [
       "<Figure size 432x288 with 1 Axes>"
      ]
     },
     "metadata": {
      "needs_background": "light"
     },
     "output_type": "display_data"
    }
   ],
   "source": [
    "colors = [\"g.\",\"r.\",\"c.\",\"b.\"]\n",
    "ax = plt.subplot()\n",
    "\n",
    "for i in range(len(X)):\n",
    "    ax.plot(X[i][0], X[i][1],colors[labels[i]], markersize=10)\n",
    "    if X[i][0] > np.percentile(X[:,0],90) and X[i][1] > np.percentile(X[:,1],90):\n",
    "        txt = df2.loc[(df2['OBPM'] == X[i][0]) & (df2['DBPM'] == X[i][1]),'Player']\n",
    "        txt = txt.to_string().split('\\\\')[0]\n",
    "        ax.annotate(txt,[X[i][0],X[i][1]],rotation = 0)\n",
    "        \n",
    "    if X[i][0] < np.percentile(X[:,0],10) and X[i][1] < np.percentile(X[:,1],10):\n",
    "        txt = df2.loc[(df2['OBPM'] == X[i][0]) & (df2['DBPM'] == X[i][1]),'Player']\n",
    "        txt = txt.to_string().split('\\\\')[0]\n",
    "        ax.annotate(txt,[X[i][0],X[i][1]],rotation = 0)\n",
    "        \n",
    "    if X[i][0] > np.percentile(X[:,0],90) and X[i][1] < np.percentile(X[:,1],10):\n",
    "        txt = df2.loc[(df2['OBPM'] == X[i][0]) & (df2['DBPM'] == X[i][1]),'Player']\n",
    "        txt = txt.to_string().split('\\\\')[0]\n",
    "        ax.annotate(txt,[X[i][0],X[i][1]],rotation = 0)\n",
    "        \n",
    "    if X[i][0] < np.percentile(X[:,0],10) and X[i][1] > np.percentile(X[:,1],90):\n",
    "        txt = df2.loc[(df2['OBPM'] == X[i][0]) & (df2['DBPM'] == X[i][1]),'Player']\n",
    "        txt = txt.to_string().split('\\\\')[0]\n",
    "        ax.annotate(txt,[X[i][0],X[i][1]],rotation = 0)\n",
    "        \n",
    "    if (df2.loc[(df2['OBPM'] == X[i][0]) & (df2['DBPM'] == X[i][1]),'Player'].to_string().split('\\\\')[0]) == \"159    Stephen Curry\":\n",
    "        txt = df2.loc[(df2['OBPM'] == X[i][0]) & (df2['DBPM'] == X[i][1]),'Player']\n",
    "        txt = txt.to_string().split('\\\\')[0]\n",
    "        ax.annotate(txt,[X[i][0],X[i][1]],rotation = 0)\n",
    "        \n",
    "    if (df2.loc[(df2['OBPM'] == X[i][0]) & (df2['DBPM'] == X[i][1]),'Player'].to_string().split('\\\\')[0]) == \"272    Joe Harris\":\n",
    "        txt = df2.loc[(df2['OBPM'] == X[i][0]) & (df2['DBPM'] == X[i][1]),'Player']\n",
    "        txt = txt.to_string().split('\\\\')[0]\n",
    "        ax.annotate(txt,[X[i][0],X[i][1]],rotation = 0)\n",
    "        \n",
    "    if (df2.loc[(df2['OBPM'] == X[i][0]) & (df2['DBPM'] == X[i][1]),'Player'].to_string().split('\\\\')[0]) == \"675    Russell Westbrook\":\n",
    "        txt = df2.loc[(df2['OBPM'] == X[i][0]) & (df2['DBPM'] == X[i][1]),'Player']\n",
    "        txt = txt.to_string().split('\\\\')[0]\n",
    "\n",
    "ax.set_title('OBPM vs. DBPM')\n",
    "ax.set_xlabel('OBPM')\n",
    "ax.set_ylabel('DBPM')  "
   ]
  },
  {
   "cell_type": "code",
   "execution_count": 25,
   "metadata": {},
   "outputs": [
    {
     "data": {
      "image/png": "[encoded data removed]",
      "text/plain": [
       "<Figure size 432x288 with 1 Axes>"
      ]
     },
     "metadata": {
      "needs_background": "light"
     },
     "output_type": "display_data"
    }
   ],
   "source": [
    "plt.scatter(centroids[:,0],\n",
    "            centroids[:,1],\n",
    "            marker='x',\n",
    "            s=150,\n",
    "            linewidth=5)\n",
    "\n",
    "plt.title('K-Means Centroids')\n",
    "plt.xlabel('OBPM')\n",
    "plt.ylabel('DBPM')\n",
    "plt.show()"
   ]
  },
  {
   "cell_type": "markdown",
   "metadata": {},
   "source": [
    "## 3. PCA based clustering (standard data - non-advanced)"
   ]
  },
  {
   "cell_type": "code",
   "execution_count": 26,
   "metadata": {},
   "outputs": [],
   "source": [
    "df = pd.read_csv(\"/Users/tommykwan/Documents/MachineLearning/Unsupervised/KMeansClustering/NBA_Clustering/season_data_2018_2019.csv\")"
   ]
  },
  {
   "cell_type": "code",
   "execution_count": 27,
   "metadata": {},
   "outputs": [
    {
     "data": {
      "text/html": [
       "<div>\n",
       "<style scoped>\n",
       "    .dataframe tbody tr th:only-of-type {\n",
       "        vertical-align: middle;\n",
       "    }\n",
       "\n",
       "    .dataframe tbody tr th {\n",
       "        vertical-align: top;\n",
       "    }\n",
       "\n",
       "    .dataframe thead th {\n",
       "        text-align: right;\n",
       "    }\n",
       "</style>\n",
       "<table border=\"1\" class=\"dataframe\">\n",
       "  <thead>\n",
       "    <tr style=\"text-align: right;\">\n",
       "      <th></th>\n",
       "      <th>MP</th>\n",
       "      <th>FG</th>\n",
       "      <th>FGA</th>\n",
       "      <th>FGP</th>\n",
       "      <th>Three_P</th>\n",
       "      <th>Three_PA</th>\n",
       "      <th>Three_PP</th>\n",
       "      <th>Two_P</th>\n",
       "      <th>Two_PA</th>\n",
       "      <th>Two_PP</th>\n",
       "      <th>...</th>\n",
       "      <th>FTP</th>\n",
       "      <th>ORB</th>\n",
       "      <th>DRB</th>\n",
       "      <th>TRB</th>\n",
       "      <th>AST</th>\n",
       "      <th>STL</th>\n",
       "      <th>BLK</th>\n",
       "      <th>TOV</th>\n",
       "      <th>PF</th>\n",
       "      <th>PTS</th>\n",
       "    </tr>\n",
       "  </thead>\n",
       "  <tbody>\n",
       "    <tr>\n",
       "      <th>12</th>\n",
       "      <td>28.3</td>\n",
       "      <td>3.2</td>\n",
       "      <td>7.3</td>\n",
       "      <td>0.433</td>\n",
       "      <td>1.2</td>\n",
       "      <td>3.5</td>\n",
       "      <td>0.343</td>\n",
       "      <td>2.0</td>\n",
       "      <td>3.9</td>\n",
       "      <td>0.514</td>\n",
       "      <td>...</td>\n",
       "      <td>0.867</td>\n",
       "      <td>1.4</td>\n",
       "      <td>6.1</td>\n",
       "      <td>7.5</td>\n",
       "      <td>1.3</td>\n",
       "      <td>0.8</td>\n",
       "      <td>0.4</td>\n",
       "      <td>0.9</td>\n",
       "      <td>1.8</td>\n",
       "      <td>9.4</td>\n",
       "    </tr>\n",
       "    <tr>\n",
       "      <th>19</th>\n",
       "      <td>32.8</td>\n",
       "      <td>10.0</td>\n",
       "      <td>17.3</td>\n",
       "      <td>0.578</td>\n",
       "      <td>0.7</td>\n",
       "      <td>2.8</td>\n",
       "      <td>0.256</td>\n",
       "      <td>9.3</td>\n",
       "      <td>14.5</td>\n",
       "      <td>0.641</td>\n",
       "      <td>...</td>\n",
       "      <td>0.729</td>\n",
       "      <td>2.2</td>\n",
       "      <td>10.3</td>\n",
       "      <td>12.5</td>\n",
       "      <td>5.9</td>\n",
       "      <td>1.3</td>\n",
       "      <td>1.5</td>\n",
       "      <td>3.7</td>\n",
       "      <td>3.2</td>\n",
       "      <td>27.7</td>\n",
       "    </tr>\n",
       "    <tr>\n",
       "      <th>22</th>\n",
       "      <td>20.2</td>\n",
       "      <td>2.7</td>\n",
       "      <td>6.0</td>\n",
       "      <td>0.453</td>\n",
       "      <td>1.0</td>\n",
       "      <td>3.0</td>\n",
       "      <td>0.332</td>\n",
       "      <td>1.7</td>\n",
       "      <td>3.0</td>\n",
       "      <td>0.574</td>\n",
       "      <td>...</td>\n",
       "      <td>0.581</td>\n",
       "      <td>0.9</td>\n",
       "      <td>2.1</td>\n",
       "      <td>2.9</td>\n",
       "      <td>0.7</td>\n",
       "      <td>0.7</td>\n",
       "      <td>0.3</td>\n",
       "      <td>0.8</td>\n",
       "      <td>2.1</td>\n",
       "      <td>7.0</td>\n",
       "    </tr>\n",
       "    <tr>\n",
       "      <th>23</th>\n",
       "      <td>24.2</td>\n",
       "      <td>2.3</td>\n",
       "      <td>5.2</td>\n",
       "      <td>0.447</td>\n",
       "      <td>1.0</td>\n",
       "      <td>2.7</td>\n",
       "      <td>0.373</td>\n",
       "      <td>1.3</td>\n",
       "      <td>2.5</td>\n",
       "      <td>0.527</td>\n",
       "      <td>...</td>\n",
       "      <td>0.873</td>\n",
       "      <td>0.3</td>\n",
       "      <td>2.4</td>\n",
       "      <td>2.7</td>\n",
       "      <td>3.3</td>\n",
       "      <td>0.8</td>\n",
       "      <td>0.0</td>\n",
       "      <td>0.8</td>\n",
       "      <td>2.1</td>\n",
       "      <td>6.7</td>\n",
       "    </tr>\n",
       "    <tr>\n",
       "      <th>24</th>\n",
       "      <td>34.0</td>\n",
       "      <td>4.3</td>\n",
       "      <td>10.7</td>\n",
       "      <td>0.399</td>\n",
       "      <td>2.1</td>\n",
       "      <td>6.3</td>\n",
       "      <td>0.334</td>\n",
       "      <td>2.2</td>\n",
       "      <td>4.4</td>\n",
       "      <td>0.493</td>\n",
       "      <td>...</td>\n",
       "      <td>0.793</td>\n",
       "      <td>0.7</td>\n",
       "      <td>4.7</td>\n",
       "      <td>5.4</td>\n",
       "      <td>3.7</td>\n",
       "      <td>1.3</td>\n",
       "      <td>0.3</td>\n",
       "      <td>1.5</td>\n",
       "      <td>1.9</td>\n",
       "      <td>12.5</td>\n",
       "    </tr>\n",
       "  </tbody>\n",
       "</table>\n",
       "<p>5 rows × 23 columns</p>\n",
       "</div>"
      ],
      "text/plain": [
       "      MP    FG   FGA    FGP  Three_P  Three_PA  Three_PP  Two_P  Two_PA  \\\n",
       "12  28.3   3.2   7.3  0.433      1.2       3.5     0.343    2.0     3.9   \n",
       "19  32.8  10.0  17.3  0.578      0.7       2.8     0.256    9.3    14.5   \n",
       "22  20.2   2.7   6.0  0.453      1.0       3.0     0.332    1.7     3.0   \n",
       "23  24.2   2.3   5.2  0.447      1.0       2.7     0.373    1.3     2.5   \n",
       "24  34.0   4.3  10.7  0.399      2.1       6.3     0.334    2.2     4.4   \n",
       "\n",
       "    Two_PP  ...     FTP  ORB   DRB   TRB  AST  STL  BLK  TOV   PF   PTS  \n",
       "12   0.514  ...   0.867  1.4   6.1   7.5  1.3  0.8  0.4  0.9  1.8   9.4  \n",
       "19   0.641  ...   0.729  2.2  10.3  12.5  5.9  1.3  1.5  3.7  3.2  27.7  \n",
       "22   0.574  ...   0.581  0.9   2.1   2.9  0.7  0.7  0.3  0.8  2.1   7.0  \n",
       "23   0.527  ...   0.873  0.3   2.4   2.7  3.3  0.8  0.0  0.8  2.1   6.7  \n",
       "24   0.493  ...   0.793  0.7   4.7   5.4  3.7  1.3  0.3  1.5  1.9  12.5  \n",
       "\n",
       "[5 rows x 23 columns]"
      ]
     },
     "execution_count": 27,
     "metadata": {},
     "output_type": "execute_result"
    }
   ],
   "source": [
    "# >50 games played out of 82\n",
    "df = df[df['G'] > 50]\n",
    "\n",
    "# >1.5 3-point attempts/game\n",
    "df = df[df['Three_PA'] > 1.5]\n",
    "\n",
    "# >3 field goal attempts/game\n",
    "df = df[df['FGA'] > 3]\n",
    "\n",
    "# >15 minutes played/game\n",
    "df = df[df['MP'] > 15]\n",
    "\n",
    "#drop N/A data\n",
    "df = df.dropna()\n",
    "\n",
    "#extract names for plotting later\n",
    "names = df['Player']\n",
    "\n",
    "\n",
    "#drop non-numeric/irrelevant data\n",
    "df = df.drop(columns = ['Player','Pos','Tm','G','GS','Age','Rk'])\n",
    "\n",
    "df.head(5)"
   ]
  },
  {
   "cell_type": "markdown",
   "metadata": {},
   "source": [
    "### Use standardscaler to scale the dataset and choose 3 principal components for visualization"
   ]
  },
  {
   "cell_type": "code",
   "execution_count": 28,
   "metadata": {},
   "outputs": [],
   "source": [
    "X = np.array(df)\n",
    "X = StandardScaler().fit_transform(X)\n",
    "\n",
    "pca = PCA(n_components = 3)\n",
    "\n",
    "start = time.time()\n",
    "principalComponents = pca.fit_transform(X)\n",
    "end = time.time() "
   ]
  },
  {
   "cell_type": "code",
   "execution_count": 29,
   "metadata": {},
   "outputs": [
    {
     "name": "stdout",
     "output_type": "stream",
     "text": [
      "Total fit time: 0.005650997161865234 seconds\n"
     ]
    }
   ],
   "source": [
    "print('Total fit time: ' + str(end-start) + ' seconds')"
   ]
  },
  {
   "cell_type": "code",
   "execution_count": 30,
   "metadata": {},
   "outputs": [
    {
     "name": "stdout",
     "output_type": "stream",
     "text": [
      "Explained variance from each principal component\n",
      "[0.47176242 0.16319464 0.1071041 ]\n"
     ]
    }
   ],
   "source": [
    "print('Explained variance from each principal component')\n",
    "print(pca.explained_variance_ratio_)"
   ]
  },
  {
   "cell_type": "code",
   "execution_count": 31,
   "metadata": {},
   "outputs": [
    {
     "name": "stdout",
     "output_type": "stream",
     "text": [
      "Total variance explained\n",
      "0.7420611574933331\n"
     ]
    }
   ],
   "source": [
    "print('Total variance explained')\n",
    "print(sum(pca.explained_variance_ratio_))"
   ]
  },
  {
   "cell_type": "code",
   "execution_count": 32,
   "metadata": {},
   "outputs": [
    {
     "data": {
      "image/png": "[encoded data removed]",
      "text/plain": [
       "<Figure size 432x288 with 1 Axes>"
      ]
     },
     "metadata": {
      "needs_background": "light"
     },
     "output_type": "display_data"
    }
   ],
   "source": [
    "from mpl_toolkits.mplot3d import Axes3D\n",
    "from mpl_toolkits.mplot3d import proj3d\n",
    "\n",
    "fig = plt.figure()\n",
    "ax3D = fig.add_subplot(111, projection='3d')\n",
    "\n",
    "ax3D.set_xlabel('PC1')\n",
    "ax3D.set_ylabel('PC2')\n",
    "ax3D.set_zlabel('PC3')\n",
    "\n",
    "percentilePC1High = np.percentile(principalComponents[:,0],99)\n",
    "percentilePC2High = np.percentile(principalComponents[:,1],99)\n",
    "percentilePC3High = np.percentile(principalComponents[:,2],99)\n",
    "percentilePC1Low = np.percentile(principalComponents[:,0],1)\n",
    "percentilePC2Low = np.percentile(principalComponents[:,1],1)\n",
    "percentilePC3Low = np.percentile(principalComponents[:,2],1)\n",
    "\n",
    "for i in range(len(principalComponents)):\n",
    "    ax3D.scatter(principalComponents[i][0],principalComponents[i][1],principalComponents[i][2])\n",
    "    if principalComponents[i][0] > percentilePC1High or principalComponents[i][1] > percentilePC2High or principalComponents[i][0] < percentilePC1Low or principalComponents[i][1] < percentilePC2Low or principalComponents[i][2] > percentilePC3High or principalComponents[i][2] < percentilePC3Low:\n",
    "            txt = names.values[i].split('\\\\')[0]\n",
    "            ax3D.text(principalComponents[i][0],\n",
    "                       principalComponents[i][1],\n",
    "                      principalComponents[i][2],\n",
    "                      txt,\n",
    "                      None)"
   ]
  }
 ],
 "metadata": {
  "kernelspec": {
   "display_name": "Python 3",
   "language": "python",
   "name": "python3"
  },
  "language_info": {
   "codemirror_mode": {
    "name": "ipython",
    "version": 3
   },
   "file_extension": ".py",
   "mimetype": "text/x-python",
   "name": "python",
   "nbconvert_exporter": "python",
   "pygments_lexer": "ipython3",
   "version": "3.6.8"
  }
 },
 "nbformat": 4,
 "nbformat_minor": 2
}
