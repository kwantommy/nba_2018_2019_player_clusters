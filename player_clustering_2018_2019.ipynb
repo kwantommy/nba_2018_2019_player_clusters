{
 "cells": [
  {
   "cell_type": "code",
   "execution_count": 1,
   "metadata": {},
   "outputs": [
    {
     "name": "stderr",
     "output_type": "stream",
     "text": [
      "Using TensorFlow backend.\n"
     ]
    }
   ],
   "source": [
    "import sys\n",
    "import pandas as pd\n",
    "import numpy as np\n",
    "import sklearn\n",
    "import keras\n",
    "import matplotlib.pyplot as plt\n",
    "\n",
    "from matplotlib import style\n",
    "style.use(\"ggplot\")\n",
    "\n",
    "from sklearn import model_selection\n",
    "from sklearn.neighbors import KNeighborsClassifier\n",
    "from sklearn.neural_network import MLPClassifier\n",
    "from sklearn.gaussian_process import GaussianProcessClassifier\n",
    "from sklearn.gaussian_process.kernels import RBF\n",
    "from sklearn.tree import DecisionTreeClassifier\n",
    "from sklearn.svm import SVC\n",
    "from sklearn.metrics import classification_report, accuracy_score\n",
    "from sklearn.cluster import KMeans\n",
    "\n",
    "\n",
    "from keras.models import Sequential\n",
    "from keras.layers import Dense\n",
    "from keras.optimizers import Adam\n",
    "\n",
    "from keras.utils.np_utils import to_categorical\n",
    "\n"
   ]
  },
  {
   "cell_type": "code",
   "execution_count": 2,
   "metadata": {},
   "outputs": [],
   "source": [
    "df = pd.read_csv(\"/Users/tommykwan/Documents/MachineLearning/KMeansClustering/NBA_Clustering/season_data_2018_2019.csv\")\n"
   ]
  },
  {
   "cell_type": "code",
   "execution_count": 3,
   "metadata": {},
   "outputs": [
    {
     "data": {
      "text/html": [
       "<div>\n",
       "<style scoped>\n",
       "    .dataframe tbody tr th:only-of-type {\n",
       "        vertical-align: middle;\n",
       "    }\n",
       "\n",
       "    .dataframe tbody tr th {\n",
       "        vertical-align: top;\n",
       "    }\n",
       "\n",
       "    .dataframe thead th {\n",
       "        text-align: right;\n",
       "    }\n",
       "</style>\n",
       "<table border=\"1\" class=\"dataframe\">\n",
       "  <thead>\n",
       "    <tr style=\"text-align: right;\">\n",
       "      <th></th>\n",
       "      <th>Rk</th>\n",
       "      <th>Player</th>\n",
       "      <th>Pos</th>\n",
       "      <th>Age</th>\n",
       "      <th>Tm</th>\n",
       "      <th>G</th>\n",
       "      <th>GS</th>\n",
       "      <th>MP</th>\n",
       "      <th>FG</th>\n",
       "      <th>FGA</th>\n",
       "      <th>...</th>\n",
       "      <th>FTP</th>\n",
       "      <th>ORB</th>\n",
       "      <th>DRB</th>\n",
       "      <th>TRB</th>\n",
       "      <th>AST</th>\n",
       "      <th>STL</th>\n",
       "      <th>BLK</th>\n",
       "      <th>TOV</th>\n",
       "      <th>PF</th>\n",
       "      <th>PTS</th>\n",
       "    </tr>\n",
       "  </thead>\n",
       "  <tbody>\n",
       "    <tr>\n",
       "      <th>0</th>\n",
       "      <td>1</td>\n",
       "      <td>Alex Abrines\\abrinal01</td>\n",
       "      <td>SG</td>\n",
       "      <td>25</td>\n",
       "      <td>OKC</td>\n",
       "      <td>31</td>\n",
       "      <td>2</td>\n",
       "      <td>19.0</td>\n",
       "      <td>1.8</td>\n",
       "      <td>5.1</td>\n",
       "      <td>...</td>\n",
       "      <td>0.923</td>\n",
       "      <td>0.2</td>\n",
       "      <td>1.4</td>\n",
       "      <td>1.5</td>\n",
       "      <td>0.6</td>\n",
       "      <td>0.5</td>\n",
       "      <td>0.2</td>\n",
       "      <td>0.5</td>\n",
       "      <td>1.7</td>\n",
       "      <td>5.3</td>\n",
       "    </tr>\n",
       "    <tr>\n",
       "      <th>1</th>\n",
       "      <td>2</td>\n",
       "      <td>Quincy Acy\\acyqu01</td>\n",
       "      <td>PF</td>\n",
       "      <td>28</td>\n",
       "      <td>PHO</td>\n",
       "      <td>10</td>\n",
       "      <td>0</td>\n",
       "      <td>12.3</td>\n",
       "      <td>0.4</td>\n",
       "      <td>1.8</td>\n",
       "      <td>...</td>\n",
       "      <td>0.700</td>\n",
       "      <td>0.3</td>\n",
       "      <td>2.2</td>\n",
       "      <td>2.5</td>\n",
       "      <td>0.8</td>\n",
       "      <td>0.1</td>\n",
       "      <td>0.4</td>\n",
       "      <td>0.4</td>\n",
       "      <td>2.4</td>\n",
       "      <td>1.7</td>\n",
       "    </tr>\n",
       "  </tbody>\n",
       "</table>\n",
       "<p>2 rows × 30 columns</p>\n",
       "</div>"
      ],
      "text/plain": [
       "   Rk                  Player Pos  Age   Tm   G  GS    MP   FG  FGA ...   \\\n",
       "0   1  Alex Abrines\\abrinal01  SG   25  OKC  31   2  19.0  1.8  5.1 ...    \n",
       "1   2      Quincy Acy\\acyqu01  PF   28  PHO  10   0  12.3  0.4  1.8 ...    \n",
       "\n",
       "     FTP  ORB  DRB  TRB  AST  STL  BLK  TOV   PF  PTS  \n",
       "0  0.923  0.2  1.4  1.5  0.6  0.5  0.2  0.5  1.7  5.3  \n",
       "1  0.700  0.3  2.2  2.5  0.8  0.1  0.4  0.4  2.4  1.7  \n",
       "\n",
       "[2 rows x 30 columns]"
      ]
     },
     "execution_count": 3,
     "metadata": {},
     "output_type": "execute_result"
    }
   ],
   "source": [
    "df.head(2)"
   ]
  },
  {
   "cell_type": "code",
   "execution_count": 4,
   "metadata": {},
   "outputs": [],
   "source": [
    "df = df.drop_duplicates(keep = 'first')"
   ]
  },
  {
   "cell_type": "code",
   "execution_count": 5,
   "metadata": {},
   "outputs": [
    {
     "name": "stdout",
     "output_type": "stream",
     "text": [
      "     Two_PP  Three_PP\n",
      "12    0.514     0.343\n",
      "19    0.641     0.256\n",
      "22    0.574     0.332\n",
      "23    0.527     0.373\n",
      "24    0.493     0.334\n",
      "27    0.511     0.421\n",
      "38    0.439     0.395\n",
      "43    0.519     0.389\n",
      "46    0.465     0.320\n",
      "47    0.548     0.351\n",
      "48    0.560     0.402\n",
      "50    0.468     0.372\n",
      "52    0.508     0.289\n",
      "55    0.513     0.429\n",
      "56    0.421     0.397\n",
      "59    0.539     0.401\n",
      "61    0.582     0.329\n",
      "63    0.462     0.360\n",
      "64    0.538     0.425\n",
      "68    0.536     0.326\n",
      "70    0.446     0.351\n",
      "77    0.548     0.335\n",
      "78    0.553     0.325\n",
      "81    0.544     0.426\n",
      "85    0.529     0.344\n",
      "87    0.558     0.361\n",
      "89    0.523     0.348\n",
      "91    0.483     0.377\n",
      "94    0.463     0.352\n",
      "97    0.428     0.363\n",
      "..      ...       ...\n",
      "596   0.602     0.369\n",
      "599   0.427     0.269\n",
      "604   0.511     0.364\n",
      "605   0.477     0.322\n",
      "608   0.455     0.326\n",
      "615   0.522     0.397\n",
      "624   0.472     0.371\n",
      "629   0.483     0.373\n",
      "631   0.515     0.341\n",
      "643   0.516     0.402\n",
      "646   0.409     0.377\n",
      "647   0.562     0.400\n",
      "649   0.466     0.394\n",
      "650   0.449     0.377\n",
      "652   0.521     0.388\n",
      "659   0.441     0.378\n",
      "660   0.531     0.336\n",
      "661   0.549     0.364\n",
      "662   0.472     0.330\n",
      "665   0.494     0.356\n",
      "669   0.498     0.390\n",
      "675   0.481     0.290\n",
      "676   0.529     0.338\n",
      "679   0.441     0.339\n",
      "684   0.447     0.361\n",
      "685   0.500     0.366\n",
      "689   0.462     0.375\n",
      "693   0.492     0.298\n",
      "698   0.564     0.349\n",
      "699   0.477     0.324\n",
      "\n",
      "[224 rows x 2 columns]\n"
     ]
    }
   ],
   "source": [
    "df = df[df['G'] > 50]\n",
    "df = df[df['Three_PA'] > 1.5]\n",
    "df = df[df['FGA'] > 3]\n",
    "df = df[df['MP'] > 15]\n",
    "df = df.dropna()\n",
    "df = df[[\"Two_PP\",\"Three_PP\"]]\n",
    "print(df)\n",
    "\n",
    "X = np.array(df)\n",
    "\n",
    "\n"
   ]
  },
  {
   "cell_type": "code",
   "execution_count": null,
   "metadata": {},
   "outputs": [],
   "source": []
  },
  {
   "cell_type": "code",
   "execution_count": 6,
   "metadata": {},
   "outputs": [
    {
     "name": "stdout",
     "output_type": "stream",
     "text": [
      "[[0.51015789 0.4002807 ]\n",
      " [0.46097674 0.34645349]\n",
      " [0.61144444 0.33261111]\n",
      " [0.53763492 0.33636508]]\n",
      "[3 2 3 0 1 0 1 0 1 3 0 1 3 0 1 0 2 1 0 3 1 3 3 0 3 3 3 0 1 1 1 1 3 1 0 1 1\n",
      " 3 2 3 0 1 2 3 1 3 0 0 3 3 3 3 1 3 2 3 3 2 1 3 3 0 3 1 0 0 1 1 1 0 0 0 1 1\n",
      " 0 1 0 3 3 0 2 3 1 3 2 1 1 0 0 0 3 3 3 1 0 3 3 1 1 2 1 2 2 1 0 3 0 3 3 3 1\n",
      " 3 3 1 2 3 1 1 1 3 1 1 0 2 1 0 1 3 3 1 0 2 3 3 0 3 3 2 3 3 1 1 3 1 1 0 0 1\n",
      " 0 1 1 0 3 1 1 0 0 1 0 1 1 3 1 1 3 1 1 2 1 3 3 1 0 2 0 3 0 1 3 0 0 1 1 1 0\n",
      " 0 0 1 1 1 1 0 0 1 2 1 0 1 1 0 1 1 3 0 1 0 0 1 0 1 3 3 1 1 0 1 3 1 1 0 1 1\n",
      " 3 1]\n"
     ]
    }
   ],
   "source": [
    "kmeans = KMeans(n_clusters = 4)\n",
    "kmeans.fit(X)\n",
    "\n",
    "centroids = kmeans.cluster_centers_\n",
    "labels = kmeans.labels_\n",
    "\n",
    "print(centroids)\n",
    "print(labels)"
   ]
  },
  {
   "cell_type": "code",
   "execution_count": 7,
   "metadata": {},
   "outputs": [],
   "source": [
    "df2 = pd.read_csv(\"/Users/tommykwan/Documents/MachineLearning/KMeansClustering/NBA_Clustering/season_data_2018_2019.csv\")\n",
    "df2 = df2.drop_duplicates(keep = 'first')"
   ]
  },
  {
   "cell_type": "code",
   "execution_count": 8,
   "metadata": {
    "scrolled": true
   },
   "outputs": [
    {
     "name": "stdout",
     "output_type": "stream",
     "text": [
      "19    Giannis Antetokounmpo\n",
      "159    Stephen Curry\n",
      "268    Maurice Harkless\n",
      "272    Joe Harris\n",
      "315    Serge Ibaka\n",
      "504    Dirk Nowitzki\n",
      "548    Dwight Powell\n",
      "599    Jonathon Simmons\n",
      "675    Russell Westbrook\n"
     ]
    },
    {
     "data": {
      "text/plain": [
       "Text(0, 0.5, '3P%')"
      ]
     },
     "execution_count": 8,
     "metadata": {},
     "output_type": "execute_result"
    },
    {
     "data": {
      "image/png": "[encoded data removed]",
      "text/plain": [
       "<Figure size 432x288 with 1 Axes>"
      ]
     },
     "metadata": {
      "needs_background": "light"
     },
     "output_type": "display_data"
    }
   ],
   "source": [
    "colors = [\"g.\",\"r.\",\"c.\",\"b.\"]\n",
    "ax = plt.subplot()\n",
    "\n",
    "for i in range(len(X)):\n",
    "#     print(\"coordinate:\",X[i], \"label:\", labels[i])\n",
    "    ax.plot(X[i][0], X[i][1],colors[labels[i]], markersize=10)\n",
    "    if X[i][0] > np.percentile(X[:,0],90) and X[i][1] > np.percentile(X[:,1],90):\n",
    "        txt = df2.loc[(df2['Two_PP'] == X[i][0]) & (df2['Three_PP'] == X[i][1]),'Player']\n",
    "        txt = txt.to_string().split('\\\\')[0]\n",
    "        print(txt)\n",
    "        ax.annotate(txt,[X[i][0],X[i][1]],rotation = 0)\n",
    "        \n",
    "    if X[i][0] < np.percentile(X[:,0],10) and X[i][1] < np.percentile(X[:,1],10):\n",
    "        txt = df2.loc[(df2['Two_PP'] == X[i][0]) & (df2['Three_PP'] == X[i][1]),'Player']\n",
    "        txt = txt.to_string().split('\\\\')[0]\n",
    "        print(txt)\n",
    "        ax.annotate(txt,[X[i][0],X[i][1]],rotation = 0)\n",
    "        \n",
    "    if X[i][0] > np.percentile(X[:,0],90) and X[i][1] < np.percentile(X[:,1],10):\n",
    "        txt = df2.loc[(df2['Two_PP'] == X[i][0]) & (df2['Three_PP'] == X[i][1]),'Player']\n",
    "        txt = txt.to_string().split('\\\\')[0]\n",
    "        print(txt)\n",
    "        ax.annotate(txt,[X[i][0],X[i][1]],rotation = 0)\n",
    "        \n",
    "    if X[i][0] < np.percentile(X[:,0],10) and X[i][1] > np.percentile(X[:,1],90):\n",
    "        txt = df2.loc[(df2['Two_PP'] == X[i][0]) & (df2['Three_PP'] == X[i][1]),'Player']\n",
    "        txt = txt.to_string().split('\\\\')[0]\n",
    "        print(txt)\n",
    "        ax.annotate(txt,[X[i][0],X[i][1]],rotation = 0)\n",
    "        \n",
    "    if (df2.loc[(df2['Two_PP'] == X[i][0]) & (df2['Three_PP'] == X[i][1]),'Player'].to_string().split('\\\\')[0]) == \"159    Stephen Curry\":\n",
    "        txt = df2.loc[(df2['Two_PP'] == X[i][0]) & (df2['Three_PP'] == X[i][1]),'Player']\n",
    "        txt = txt.to_string().split('\\\\')[0]\n",
    "        print(txt)\n",
    "        ax.annotate(txt,[X[i][0],X[i][1]],rotation = 0)\n",
    "        \n",
    "    if (df2.loc[(df2['Two_PP'] == X[i][0]) & (df2['Three_PP'] == X[i][1]),'Player'].to_string().split('\\\\')[0]) == \"272    Joe Harris\":\n",
    "        txt = df2.loc[(df2['Two_PP'] == X[i][0]) & (df2['Three_PP'] == X[i][1]),'Player']\n",
    "        txt = txt.to_string().split('\\\\')[0]\n",
    "        print(txt)\n",
    "        ax.annotate(txt,[X[i][0],X[i][1]],rotation = 0)\n",
    "        \n",
    "    if (df2.loc[(df2['Two_PP'] == X[i][0]) & (df2['Three_PP'] == X[i][1]),'Player'].to_string().split('\\\\')[0]) == \"675    Russell Westbrook\":\n",
    "        txt = df2.loc[(df2['Two_PP'] == X[i][0]) & (df2['Three_PP'] == X[i][1]),'Player']\n",
    "        txt = txt.to_string().split('\\\\')[0]\n",
    "        print(txt)\n",
    "\n",
    "ax.set_title('2P% vs 3P%')\n",
    "ax.set_xlabel('2P%')\n",
    "ax.set_ylabel('3P%')\n",
    "\n",
    "        "
   ]
  },
  {
   "cell_type": "code",
   "execution_count": 9,
   "metadata": {},
   "outputs": [
    {
     "data": {
      "image/png": "[encoded data removed]",
      "text/plain": [
       "<Figure size 432x288 with 1 Axes>"
      ]
     },
     "metadata": {
      "needs_background": "light"
     },
     "output_type": "display_data"
    }
   ],
   "source": [
    "plt.scatter(centroids[:,0],centroids[:,1],marker='x',s=150,linewidth=5)\n",
    "plt.title('KMeans Centroids')\n",
    "plt.xlabel('2P%')\n",
    "plt.ylabel('3P%')\n",
    "plt.show()\n",
    "\n"
   ]
  },
  {
   "cell_type": "code",
   "execution_count": 10,
   "metadata": {},
   "outputs": [],
   "source": [
    "##########################################################################################\n",
    "# OBPM vs. DBPM"
   ]
  },
  {
   "cell_type": "code",
   "execution_count": 11,
   "metadata": {},
   "outputs": [],
   "source": [
    "df = pd.read_csv(\"/Users/tommykwan/Documents/MachineLearning/KMeansClustering/NBA_Clustering/nba_advanced_stats_2018_2019.csv\")\n"
   ]
  },
  {
   "cell_type": "code",
   "execution_count": 12,
   "metadata": {},
   "outputs": [
    {
     "data": {
      "text/html": [
       "<div>\n",
       "<style scoped>\n",
       "    .dataframe tbody tr th:only-of-type {\n",
       "        vertical-align: middle;\n",
       "    }\n",
       "\n",
       "    .dataframe tbody tr th {\n",
       "        vertical-align: top;\n",
       "    }\n",
       "\n",
       "    .dataframe thead th {\n",
       "        text-align: right;\n",
       "    }\n",
       "</style>\n",
       "<table border=\"1\" class=\"dataframe\">\n",
       "  <thead>\n",
       "    <tr style=\"text-align: right;\">\n",
       "      <th></th>\n",
       "      <th>Rk</th>\n",
       "      <th>Player</th>\n",
       "      <th>Pos</th>\n",
       "      <th>Age</th>\n",
       "      <th>Tm</th>\n",
       "      <th>G</th>\n",
       "      <th>MP</th>\n",
       "      <th>PER</th>\n",
       "      <th>TS%</th>\n",
       "      <th>3PAr</th>\n",
       "      <th>...</th>\n",
       "      <th>TOV%</th>\n",
       "      <th>USG%</th>\n",
       "      <th>OWS</th>\n",
       "      <th>DWS</th>\n",
       "      <th>WS</th>\n",
       "      <th>WS/48</th>\n",
       "      <th>OBPM</th>\n",
       "      <th>DBPM</th>\n",
       "      <th>BPM</th>\n",
       "      <th>VORP</th>\n",
       "    </tr>\n",
       "  </thead>\n",
       "  <tbody>\n",
       "    <tr>\n",
       "      <th>0</th>\n",
       "      <td>1</td>\n",
       "      <td>Alex Abrines\\abrinal01</td>\n",
       "      <td>SG</td>\n",
       "      <td>25</td>\n",
       "      <td>OKC</td>\n",
       "      <td>31</td>\n",
       "      <td>588</td>\n",
       "      <td>6.3</td>\n",
       "      <td>0.507</td>\n",
       "      <td>0.809</td>\n",
       "      <td>...</td>\n",
       "      <td>7.9</td>\n",
       "      <td>12.2</td>\n",
       "      <td>0.1</td>\n",
       "      <td>0.6</td>\n",
       "      <td>0.6</td>\n",
       "      <td>0.053</td>\n",
       "      <td>-2.4</td>\n",
       "      <td>-0.9</td>\n",
       "      <td>-3.4</td>\n",
       "      <td>-0.2</td>\n",
       "    </tr>\n",
       "    <tr>\n",
       "      <th>1</th>\n",
       "      <td>2</td>\n",
       "      <td>Quincy Acy\\acyqu01</td>\n",
       "      <td>PF</td>\n",
       "      <td>28</td>\n",
       "      <td>PHO</td>\n",
       "      <td>10</td>\n",
       "      <td>123</td>\n",
       "      <td>2.9</td>\n",
       "      <td>0.379</td>\n",
       "      <td>0.833</td>\n",
       "      <td>...</td>\n",
       "      <td>15.2</td>\n",
       "      <td>9.2</td>\n",
       "      <td>-0.1</td>\n",
       "      <td>0.0</td>\n",
       "      <td>-0.1</td>\n",
       "      <td>-0.022</td>\n",
       "      <td>-5.7</td>\n",
       "      <td>-0.3</td>\n",
       "      <td>-5.9</td>\n",
       "      <td>-0.1</td>\n",
       "    </tr>\n",
       "    <tr>\n",
       "      <th>2</th>\n",
       "      <td>3</td>\n",
       "      <td>Jaylen Adams\\adamsja01</td>\n",
       "      <td>PG</td>\n",
       "      <td>22</td>\n",
       "      <td>ATL</td>\n",
       "      <td>34</td>\n",
       "      <td>428</td>\n",
       "      <td>7.6</td>\n",
       "      <td>0.474</td>\n",
       "      <td>0.673</td>\n",
       "      <td>...</td>\n",
       "      <td>19.7</td>\n",
       "      <td>13.5</td>\n",
       "      <td>-0.1</td>\n",
       "      <td>0.2</td>\n",
       "      <td>0.1</td>\n",
       "      <td>0.011</td>\n",
       "      <td>-3.1</td>\n",
       "      <td>-1.3</td>\n",
       "      <td>-4.4</td>\n",
       "      <td>-0.3</td>\n",
       "    </tr>\n",
       "    <tr>\n",
       "      <th>3</th>\n",
       "      <td>4</td>\n",
       "      <td>Steven Adams\\adamsst01</td>\n",
       "      <td>C</td>\n",
       "      <td>25</td>\n",
       "      <td>OKC</td>\n",
       "      <td>80</td>\n",
       "      <td>2669</td>\n",
       "      <td>18.5</td>\n",
       "      <td>0.591</td>\n",
       "      <td>0.002</td>\n",
       "      <td>...</td>\n",
       "      <td>12.6</td>\n",
       "      <td>16.4</td>\n",
       "      <td>5.1</td>\n",
       "      <td>4.0</td>\n",
       "      <td>9.1</td>\n",
       "      <td>0.163</td>\n",
       "      <td>0.6</td>\n",
       "      <td>2.1</td>\n",
       "      <td>2.7</td>\n",
       "      <td>3.2</td>\n",
       "    </tr>\n",
       "    <tr>\n",
       "      <th>4</th>\n",
       "      <td>5</td>\n",
       "      <td>Bam Adebayo\\adebaba01</td>\n",
       "      <td>C</td>\n",
       "      <td>21</td>\n",
       "      <td>MIA</td>\n",
       "      <td>82</td>\n",
       "      <td>1913</td>\n",
       "      <td>17.9</td>\n",
       "      <td>0.623</td>\n",
       "      <td>0.031</td>\n",
       "      <td>...</td>\n",
       "      <td>17.1</td>\n",
       "      <td>15.8</td>\n",
       "      <td>3.4</td>\n",
       "      <td>3.4</td>\n",
       "      <td>6.8</td>\n",
       "      <td>0.171</td>\n",
       "      <td>-0.6</td>\n",
       "      <td>3.6</td>\n",
       "      <td>3.0</td>\n",
       "      <td>2.4</td>\n",
       "    </tr>\n",
       "  </tbody>\n",
       "</table>\n",
       "<p>5 rows × 27 columns</p>\n",
       "</div>"
      ],
      "text/plain": [
       "   Rk                  Player Pos  Age   Tm   G    MP   PER    TS%   3PAr  \\\n",
       "0   1  Alex Abrines\\abrinal01  SG   25  OKC  31   588   6.3  0.507  0.809   \n",
       "1   2      Quincy Acy\\acyqu01  PF   28  PHO  10   123   2.9  0.379  0.833   \n",
       "2   3  Jaylen Adams\\adamsja01  PG   22  ATL  34   428   7.6  0.474  0.673   \n",
       "3   4  Steven Adams\\adamsst01   C   25  OKC  80  2669  18.5  0.591  0.002   \n",
       "4   5   Bam Adebayo\\adebaba01   C   21  MIA  82  1913  17.9  0.623  0.031   \n",
       "\n",
       "   ...   TOV%  USG%  OWS  DWS   WS  WS/48  OBPM  DBPM  BPM  VORP  \n",
       "0  ...    7.9  12.2  0.1  0.6  0.6  0.053  -2.4  -0.9 -3.4  -0.2  \n",
       "1  ...   15.2   9.2 -0.1  0.0 -0.1 -0.022  -5.7  -0.3 -5.9  -0.1  \n",
       "2  ...   19.7  13.5 -0.1  0.2  0.1  0.011  -3.1  -1.3 -4.4  -0.3  \n",
       "3  ...   12.6  16.4  5.1  4.0  9.1  0.163   0.6   2.1  2.7   3.2  \n",
       "4  ...   17.1  15.8  3.4  3.4  6.8  0.171  -0.6   3.6  3.0   2.4  \n",
       "\n",
       "[5 rows x 27 columns]"
      ]
     },
     "execution_count": 12,
     "metadata": {},
     "output_type": "execute_result"
    }
   ],
   "source": [
    "df.head()"
   ]
  },
  {
   "cell_type": "code",
   "execution_count": 13,
   "metadata": {},
   "outputs": [],
   "source": [
    "df = df.drop_duplicates(keep = 'first')"
   ]
  },
  {
   "cell_type": "code",
   "execution_count": 14,
   "metadata": {},
   "outputs": [
    {
     "name": "stdout",
     "output_type": "stream",
     "text": [
      "     OBPM  DBPM\n",
      "3     0.6   2.1\n",
      "4    -0.6   3.6\n",
      "7     1.2   0.5\n",
      "10   -0.7   3.2\n",
      "12    0.1   0.8\n",
      "19    5.7   5.0\n",
      "22   -1.3   0.1\n",
      "23   -0.1  -1.0\n",
      "24   -0.1  -0.4\n",
      "27    1.7  -2.0\n",
      "28   -0.1   0.2\n",
      "30   -1.2  -0.7\n",
      "38   -0.6  -1.8\n",
      "43   -0.1   0.9\n",
      "45   -1.2   1.4\n",
      "46   -2.2   0.0\n",
      "47    3.9  -1.1\n",
      "48    1.4  -1.9\n",
      "50    0.3  -2.4\n",
      "51   -3.1   2.8\n",
      "52   -3.3   1.1\n",
      "55    1.6  -0.4\n",
      "56    1.2   1.2\n",
      "58   -2.5   1.5\n",
      "59    0.8   1.2\n",
      "60   -4.7  -3.7\n",
      "61    2.5   1.0\n",
      "63    0.5  -1.2\n",
      "64    1.4  -1.4\n",
      "68    3.8  -3.0\n",
      "..    ...   ...\n",
      "620  -0.9  -2.2\n",
      "624  -1.7  -0.4\n",
      "629  -1.4   0.6\n",
      "631  -1.7   0.6\n",
      "639   0.8   1.5\n",
      "643   1.2  -2.0\n",
      "646  -1.2  -1.0\n",
      "647   4.8   2.0\n",
      "649  -2.2  -2.0\n",
      "650  -0.5   1.8\n",
      "651  -2.5   0.7\n",
      "652  -1.4   4.7\n",
      "659   0.7  -0.7\n",
      "660  -1.6   1.6\n",
      "661   3.0   3.4\n",
      "662  -0.4   0.0\n",
      "665   5.1  -1.7\n",
      "669  -0.4  -1.5\n",
      "675   2.5   3.9\n",
      "676  -0.2   1.1\n",
      "678  -2.2   3.0\n",
      "679  -1.7  -1.3\n",
      "684   3.1  -2.6\n",
      "685  -0.2   0.5\n",
      "689  -1.1   1.0\n",
      "693   0.0   1.5\n",
      "698   0.8   2.1\n",
      "699   1.8  -2.8\n",
      "704  -1.7  -1.4\n",
      "705  -1.2   1.0\n",
      "\n",
      "[288 rows x 2 columns]\n"
     ]
    }
   ],
   "source": [
    "df = df[df['G'] > 50]\n",
    "df = df[df['MP'] > 750]\n",
    "df = df.dropna()\n",
    "df = df[['OBPM','DBPM']]\n",
    "print(df)\n",
    "\n",
    "X = np.array(df)\n"
   ]
  },
  {
   "cell_type": "code",
   "execution_count": 15,
   "metadata": {},
   "outputs": [
    {
     "name": "stdout",
     "output_type": "stream",
     "text": [
      "[[-1.925      -0.42065217]\n",
      " [-0.07236842  1.98815789]\n",
      " [ 4.43928571  0.78214286]\n",
      " [ 0.63043478 -1.49565217]]\n",
      "[1 1 1 1 1 2 0 3 3 3 1 0 3 1 1 0 2 3 3 1 0 3 1 0 1 0 2 3 3 3 0 0 0 3 0 0 0\n",
      " 3 3 3 3 0 2 2 3 1 0 3 1 0 0 0 3 3 1 3 2 1 3 1 0 1 1 3 2 3 2 1 1 1 0 1 3 2\n",
      " 0 1 0 2 3 1 0 0 1 0 3 1 3 3 3 0 2 3 1 1 1 2 3 0 0 1 1 3 1 0 1 1 3 0 3 2 3\n",
      " 2 1 2 0 0 3 3 3 0 0 1 0 3 0 3 0 2 0 0 1 3 1 0 1 1 0 1 0 2 1 0 0 1 0 3 0 3\n",
      " 2 3 0 0 0 2 1 3 1 0 3 3 0 1 0 3 3 0 3 3 3 3 3 2 3 2 0 3 0 1 1 0 2 0 0 0 0\n",
      " 3 3 3 0 3 1 0 0 3 0 3 3 1 3 3 3 3 0 3 3 3 3 1 3 1 0 1 0 1 0 0 0 1 3 0 1 0\n",
      " 3 0 2 1 1 3 2 0 3 3 3 0 1 3 3 0 1 2 1 3 3 3 0 0 0 3 3 3 0 1 1 0 1 0 0 0 3\n",
      " 0 0 0 1 3 0 2 0 1 0 1 3 1 2 0 2 3 1 1 1 0 3 1 1 1 1 3 0 1]\n"
     ]
    }
   ],
   "source": [
    "kmeans = KMeans(n_clusters = 4)\n",
    "kmeans.fit(X)\n",
    "\n",
    "centroids = kmeans.cluster_centers_\n",
    "labels = kmeans.labels_\n",
    "\n",
    "print(centroids)\n",
    "print(labels)"
   ]
  },
  {
   "cell_type": "code",
   "execution_count": 16,
   "metadata": {},
   "outputs": [],
   "source": [
    "df2 = pd.read_csv(\"/Users/tommykwan/Documents/MachineLearning/KMeansClustering/NBA_Clustering/nba_advanced_stats_2018_2019.csv\")\n",
    "df2 = df2.drop_duplicates(keep = 'first')"
   ]
  },
  {
   "cell_type": "code",
   "execution_count": 17,
   "metadata": {},
   "outputs": [
    {
     "name": "stdout",
     "output_type": "stream",
     "text": [
      "19    Giannis Antetokounmpo\n",
      "51    Jordan Bell\n",
      "60    Antonio Blakeney\n",
      "68    Devin Booker\n",
      "159    Stephen Curry\n",
      "161    Anthony Davis\n",
      "272    Joe Harris\n",
      "353    Nikola Jokic\n",
      "375    Kevin Knox\n",
      "515    Elie Okobo\n",
      "555    J.J. Redick\n",
      "661    Nikola Vucevic\n",
      "675    Russell Westbrook\n",
      "684    Lou Williams\n"
     ]
    },
    {
     "data": {
      "text/plain": [
       "Text(0, 0.5, 'DBPM')"
      ]
     },
     "execution_count": 17,
     "metadata": {},
     "output_type": "execute_result"
    },
    {
     "data": {
      "image/png": "[encoded data removed]",
      "text/plain": [
       "<Figure size 432x288 with 1 Axes>"
      ]
     },
     "metadata": {
      "needs_background": "light"
     },
     "output_type": "display_data"
    }
   ],
   "source": [
    "colors = [\"g.\",\"r.\",\"c.\",\"b.\"]\n",
    "ax = plt.subplot()\n",
    "\n",
    "for i in range(len(X)):\n",
    "#     print(\"coordinate:\",X[i], \"label:\", labels[i])\n",
    "    ax.plot(X[i][0], X[i][1],colors[labels[i]], markersize=10)\n",
    "    if X[i][0] > np.percentile(X[:,0],90) and X[i][1] > np.percentile(X[:,1],90):\n",
    "        txt = df2.loc[(df2['OBPM'] == X[i][0]) & (df2['DBPM'] == X[i][1]),'Player']\n",
    "        txt = txt.to_string().split('\\\\')[0]\n",
    "        print(txt)\n",
    "        ax.annotate(txt,[X[i][0],X[i][1]],rotation = 0)\n",
    "        \n",
    "    if X[i][0] < np.percentile(X[:,0],10) and X[i][1] < np.percentile(X[:,1],10):\n",
    "        txt = df2.loc[(df2['OBPM'] == X[i][0]) & (df2['DBPM'] == X[i][1]),'Player']\n",
    "        txt = txt.to_string().split('\\\\')[0]\n",
    "        print(txt)\n",
    "        ax.annotate(txt,[X[i][0],X[i][1]],rotation = 0)\n",
    "        \n",
    "    if X[i][0] > np.percentile(X[:,0],90) and X[i][1] < np.percentile(X[:,1],10):\n",
    "        txt = df2.loc[(df2['OBPM'] == X[i][0]) & (df2['DBPM'] == X[i][1]),'Player']\n",
    "        txt = txt.to_string().split('\\\\')[0]\n",
    "        print(txt)\n",
    "        ax.annotate(txt,[X[i][0],X[i][1]],rotation = 0)\n",
    "        \n",
    "    if X[i][0] < np.percentile(X[:,0],10) and X[i][1] > np.percentile(X[:,1],90):\n",
    "        txt = df2.loc[(df2['OBPM'] == X[i][0]) & (df2['DBPM'] == X[i][1]),'Player']\n",
    "        txt = txt.to_string().split('\\\\')[0]\n",
    "        print(txt)\n",
    "        ax.annotate(txt,[X[i][0],X[i][1]],rotation = 0)\n",
    "        \n",
    "    if (df2.loc[(df2['OBPM'] == X[i][0]) & (df2['DBPM'] == X[i][1]),'Player'].to_string().split('\\\\')[0]) == \"159    Stephen Curry\":\n",
    "        txt = df2.loc[(df2['OBPM'] == X[i][0]) & (df2['DBPM'] == X[i][1]),'Player']\n",
    "        txt = txt.to_string().split('\\\\')[0]\n",
    "        print(txt)\n",
    "        ax.annotate(txt,[X[i][0],X[i][1]],rotation = 0)\n",
    "        \n",
    "    if (df2.loc[(df2['OBPM'] == X[i][0]) & (df2['DBPM'] == X[i][1]),'Player'].to_string().split('\\\\')[0]) == \"272    Joe Harris\":\n",
    "        txt = df2.loc[(df2['OBPM'] == X[i][0]) & (df2['DBPM'] == X[i][1]),'Player']\n",
    "        txt = txt.to_string().split('\\\\')[0]\n",
    "        print(txt)\n",
    "        ax.annotate(txt,[X[i][0],X[i][1]],rotation = 0)\n",
    "        \n",
    "    if (df2.loc[(df2['OBPM'] == X[i][0]) & (df2['DBPM'] == X[i][1]),'Player'].to_string().split('\\\\')[0]) == \"675    Russell Westbrook\":\n",
    "        txt = df2.loc[(df2['OBPM'] == X[i][0]) & (df2['DBPM'] == X[i][1]),'Player']\n",
    "        txt = txt.to_string().split('\\\\')[0]\n",
    "        print(txt)\n",
    "\n",
    "ax.set_title('OBPM vs DBPM')\n",
    "ax.set_xlabel('OBPM')\n",
    "ax.set_ylabel('DBPM')\n",
    "\n",
    "        "
   ]
  },
  {
   "cell_type": "code",
   "execution_count": 18,
   "metadata": {},
   "outputs": [
    {
     "data": {
      "image/png": "[encoded data removed]",
      "text/plain": [
       "<Figure size 432x288 with 1 Axes>"
      ]
     },
     "metadata": {
      "needs_background": "light"
     },
     "output_type": "display_data"
    }
   ],
   "source": [
    "plt.scatter(centroids[:,0],centroids[:,1],marker='x',s=150,linewidth=5)\n",
    "plt.title('KMeans Centroids')\n",
    "plt.xlabel('OBPM')\n",
    "plt.ylabel('DBPM')\n",
    "plt.show()\n",
    "\n"
   ]
  },
  {
   "cell_type": "code",
   "execution_count": null,
   "metadata": {},
   "outputs": [],
   "source": []
  },
  {
   "cell_type": "code",
   "execution_count": null,
   "metadata": {},
   "outputs": [],
   "source": []
  },
  {
   "cell_type": "code",
   "execution_count": null,
   "metadata": {},
   "outputs": [],
   "source": []
  }
 ],
 "metadata": {
  "kernelspec": {
   "display_name": "Python 3",
   "language": "python",
   "name": "python3"
  },
  "language_info": {
   "codemirror_mode": {
    "name": "ipython",
    "version": 3
   },
   "file_extension": ".py",
   "mimetype": "text/x-python",
   "name": "python",
   "nbconvert_exporter": "python",
   "pygments_lexer": "ipython3",
   "version": "3.6.8"
  }
 },
 "nbformat": 4,
 "nbformat_minor": 2
}
